{
 "cells": [
  {
   "cell_type": "code",
   "execution_count": null,
   "id": "9e1b7032",
   "metadata": {},
   "outputs": [],
   "source": [
    "#Coffee Production of 2021 (in millions of 60kg bags)"
   ]
  },
  {
   "cell_type": "code",
   "execution_count": 7,
   "id": "11128fb1",
   "metadata": {},
   "outputs": [],
   "source": [
    "import pandas as pd\n",
    "import geopandas as gpd\n",
    "\n",
    "#world_data = gpd.read_file(gpd.datasets.get_path('naturalearth_lowres'))\n",
    "\n",
    "#world_df = pd.DataFrame(world_data)\n",
    "\n",
    "brazil_data = gpd.read_file('bcim_2016_21_11_2018.gpkg', layer = 'lim_unidade_federacao_a')\n",
    "\n",
    "brazil_df = pd.DataFrame(brazil_data)\n",
    "\n",
    "coffee_data = {'State': ['Acre', 'Alagoas', 'Amapá', 'Amazonas', 'Bahia', 'Ceará', 'Espírito Santo', 'Goiás', 'Maranhão', 'Mato Grosso', 'Mato Grosso do Sul', 'Minas Gerais', 'Pará', 'Paraíba', 'Paraná', 'Pernambuco', 'Piauí', 'Rio de Janeiro', 'Rio Grande do Norte', 'Rio Grande do Sul', 'Rondônia', 'Roraima', 'Santa Catarina', 'São Paulo', 'Sergipe', 'Tocantins'],\n",
    "        'Coffee_Production': [0.095, 0.23, 0.045, 0.5, 4.1, 0.16, 14.8, 1.7, 1.2, 1.6, 0.085, 26.5, 0.75, 0.14, 1.8, 0.13, 0.83, 0.788, 0.145, 0.38, 2.3, 0.02, 0.35, 6.3, 0.175, 0.847]}\n",
    "\n",
    "coffee_df = pd.DataFrame(coffee_data)\n",
    "\n",
    "brazil_df = brazil_df.rename(columns={'nome':'State'})\n",
    "\n",
    "coffee_brazil_df = pd.merge(coffee_df, brazil_df, on='State', how='inner')\n",
    "\n",
    "#display(coffee_df)\n",
    "#brazil.columns\n",
    "#display(brazil_df)\n",
    "#display(coffee_brazil_df)\n",
    "#display(world_df)"
   ]
  },
  {
   "cell_type": "code",
   "execution_count": 8,
   "id": "c39cb1bb",
   "metadata": {},
   "outputs": [],
   "source": [
    "no_use_or_repeated = ['nomeabrev', 'geocodigo', 'geometriaaproximada', 'id_produtor', 'id_elementoprodutor', 'cd_insumo_orgao', 'nr_insumo_mes', 'nr_insumo_ano', 'tx_insumo_documento']\n",
    "\n",
    "if all(col in coffee_brazil_df for col in no_use_or_repeated):\n",
    "        coffee_brazil_df.drop(no_use_or_repeated, axis=1, inplace=True)\n",
    "\n",
    "#display(coffee_brazil_df)\n",
    "\n",
    "#coffee_brazil_world_df = world_df.merge(coffee_brazil_df, how='left', left_on='geometry', right_on='nome')\n",
    "\n",
    "#coffee_brazil_world_df = pd.merge(coffee_brazil_df, world_df, on)\n",
    "\n",
    "#display(coffee_brazil_world_df)"
   ]
  },
  {
   "cell_type": "code",
   "execution_count": 9,
   "id": "8cc0638d",
   "metadata": {},
   "outputs": [],
   "source": [
    "from unidecode import unidecode\n",
    "\n",
    "brazil_df['State'] = brazil_df['State'].apply(lambda x: unidecode(x))\n",
    "\n",
    "coffee_brazil_df['State'] = coffee_brazil_df['State'].apply(lambda x: unidecode(x))\n",
    "\n",
    "#display(coffee_brazil_df)"
   ]
  },
  {
   "cell_type": "code",
   "execution_count": 10,
   "id": "46211e24",
   "metadata": {},
   "outputs": [
    {
     "name": "stderr",
     "output_type": "stream",
     "text": [
      "C:\\Users\\jojos\\.conda\\envs\\geo_env\\Lib\\site-packages\\geopandas\\io\\file.py:299: FutureWarning: pandas.Int64Index is deprecated and will be removed from pandas in a future version. Use pandas.Index with the appropriate dtype instead.\n",
      "  pd.Int64Index,\n"
     ]
    }
   ],
   "source": [
    "# Convert the DataFrame to a GeoDataFrame\n",
    "gdf = gpd.GeoDataFrame(coffee_brazil_df)\n",
    "\n",
    "# Save the GeoDataFrame as a GeoJSON file\n",
    "geojson_path = 'coffee_brazil.geojson'\n",
    "gdf.to_file(geojson_path, driver='GeoJSON')"
   ]
  },
  {
   "cell_type": "markdown",
   "id": "f9a6b1e2",
   "metadata": {},
   "source": [
    "txtest = brazil_df.to_string()\n",
    "\n",
    "file_path = 'braziltest.txt'\n",
    "\n",
    "with open(file_path, 'w') as file:\n",
    "    file.write(txtest)"
   ]
  },
  {
   "cell_type": "markdown",
   "id": "d7aed39e",
   "metadata": {},
   "source": [
    "from shapely.geometry import shape\n",
    "\n",
    "#print(coffee_brazil_df.dtypes)\n",
    "#print(coffee_brazil_df['geometry'].isnull().sum())\n",
    "for geometry in coffee_brazil_df['geometry']:\n",
    "    if not geometry.is_valid:\n",
    "        print(f\"Invalid geometry: {geometry}\")"
   ]
  },
  {
   "cell_type": "code",
   "execution_count": 11,
   "id": "122e8ca9",
   "metadata": {},
   "outputs": [],
   "source": [
    "import folium\n",
    "\n",
    "map = folium.Map(location=[-15, -50], zoom_start=3.5 )\n",
    "\n",
    "folium.Choropleth(\n",
    "    geo_data=geojson_path,\n",
    "    name='choropleth',\n",
    "    data=coffee_brazil_df,\n",
    "    columns=['State', 'Coffee_Production'],\n",
    "    key_on='feature.properties.State',\n",
    "    fill_color='YlGn',\n",
    "    fill_opacity=0.7,\n",
    "    line_opacity=0.2,\n",
    "    legend_name='Coffee Production'\n",
    ").add_to(map)\n",
    "\n",
    "folium.LayerControl().add_to(map)\n",
    "\n",
    "map.save('coffee_brazil_map.html')"
   ]
  },
  {
   "cell_type": "code",
   "execution_count": 12,
   "id": "f3742640",
   "metadata": {
    "scrolled": true
   },
   "outputs": [],
   "source": [
    "#import pandas as pd\n",
    "#import geopandas as gpd\n",
    "#from unidecode import unidecode\n",
    "#import json\n",
    "\n",
    "with open('br.json', encoding='utf-8') as file:\n",
    "    city_data = json.load(file)\n",
    "    \n",
    "for city_info in city_data:\n",
    "    city = city_info['city']\n",
    "    lat = float(city_info['lat'])\n",
    "    lon = float(city_info['lng'])\n",
    "    \n",
    "    marker = folium.Marker(location=[lat, lon], popup=city)\n",
    "    marker.add_to(map)\n",
    "    \n",
    "map.save('coffee_brazil_map.html')"
   ]
  },
  {
   "cell_type": "code",
   "execution_count": null,
   "id": "41d253aa",
   "metadata": {},
   "outputs": [],
   "source": []
  }
 ],
 "metadata": {
  "kernelspec": {
   "display_name": "Python 3 (ipykernel)",
   "language": "python",
   "name": "python3"
  },
  "language_info": {
   "codemirror_mode": {
    "name": "ipython",
    "version": 3
   },
   "file_extension": ".py",
   "mimetype": "text/x-python",
   "name": "python",
   "nbconvert_exporter": "python",
   "pygments_lexer": "ipython3",
   "version": "3.11.3"
  }
 },
 "nbformat": 4,
 "nbformat_minor": 5
}
