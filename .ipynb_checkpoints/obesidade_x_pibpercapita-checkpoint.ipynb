{
 "cells": [
  {
   "cell_type": "code",
   "execution_count": 21,
   "id": "cb38f758",
   "metadata": {
    "scrolled": true
   },
   "outputs": [],
   "source": [
    "import pandas as pd\n",
    "import geopandas as gpd\n",
    "\n",
    "url_obesidade = 'https://en.wikipedia.org/wiki/List_of_countries_by_obesity_rate'\n",
    "tabelas_obesidade = pd.read_html(url_obesidade)\n",
    "dados_obesidade = tabelas_obesidade[0]\n",
    "\n",
    "url_pib = 'https://en.wikipedia.org/wiki/List_of_countries_by_GDP_(nominal)_per_capita'\n",
    "tabelas_pib = pd.read_html(url_pib)\n",
    "dados_pib = tabelas_pib[1]\n",
    "\n",
    "#display(dados_pib)\n",
    "#display(dados_obesidade)"
   ]
  },
  {
   "cell_type": "markdown",
   "id": "582862d4",
   "metadata": {},
   "source": [
    "#pd.set_option('display.max_rows', None)     # Mostrar todas as linhas\n",
    "#pd.set_option('display.max_columns', None)  # Mostrar todas as colunas\n",
    "#pd.set_option('display.width', None)        # Mostrar tudo alinhado \n",
    "pd.reset_option('display.max_rows')       #{\n",
    "pd.reset_option('display.max_columns')    #{ Resetar as configurações\n",
    "pd.reset_option('display.width')          #{"
   ]
  },
  {
   "cell_type": "markdown",
   "id": "2463f1c0",
   "metadata": {},
   "source": [
    "from fuzzywuzzy import fuzz\n",
    "\n",
    "pd.set_option('display.max_rows', None)  # Mostrar todas as linhas\n",
    "\n",
    "pib_teste = dados_pib['Country/Territory']\n",
    "obsd_teste = dados_obesidade['Country'].to_frame()\n",
    "\n",
    "#linhas_extras_pib = pib_teste['Country/Territory'][~pib_teste['Country/Territory'].isin(obsd_teste['Country'])]\n",
    "linhas_extras_obsd = dados_obesidade['Country'].to_frame()[~dados_obesidade['Country'].to_frame().isin(dados_pib['Country/Territory'])]\n",
    "\n",
    "#linhas_extras = pib_teste['Country/Territory'].compare(obsd_teste['Country'].to_frame())\n",
    "\n",
    "# Listas para armazenar os pares de correspondência\n",
    "correspondencias = []\n",
    "\n",
    "# Iterar pelos nomes dos países em uma das tabelas\n",
    "for nome1 in linhas_extras_obsd:\n",
    "    melhor_correspondencia = None\n",
    "    melhor_pontuacao = 0\n",
    "\n",
    "    # Comparar com os nomes dos países na outra tabela\n",
    "    for nome2 in linhas_extras_pib:\n",
    "        pontuacao = fuzz.ratio(nome1, nome2)\n",
    "\n",
    "        # Atualizar a melhor correspondência se a pontuação for maior\n",
    "        if pontuacao > melhor_pontuacao:\n",
    "            melhor_pontuacao = pontuacao\n",
    "            melhor_correspondencia = nome2\n",
    "\n",
    "    # Adicionar a correspondência à lista de pares\n",
    "    correspondencias.append((nome1, melhor_correspondencia))\n",
    "\n",
    "# Criar um DataFrame com as correspondências\n",
    "tabela_correspondencias = pd.DataFrame(correspondencias, columns=['Nome1', 'Nome2'])\n",
    "\n",
    "# Imprimir a tabela de correspondências\n",
    "#display(linhas_extras)\n",
    "display(linhas_extras_obsd)\n",
    "#display(pib_teste)\n",
    "#display(obsd_teste)"
   ]
  },
  {
   "cell_type": "markdown",
   "id": "a4a7ae44",
   "metadata": {},
   "source": [
    "gdp_countries = dados_pib['Country/Territory']\n",
    "obesity_countries = dados_obesidade['Country'].to_frame()\n",
    "\n",
    "# Find the unique countries in each DataFrame\n",
    "unique_to_gdp = gdp_countries[~gdp_countries.isin(obesity_countries)]\n",
    "unique_to_obesity = obesity_countries[~obesity_countries.isin(gdp_countries)]\n",
    "\n",
    "# Create a DataFrame from the unique countries in each table\n",
    "result = pd.DataFrame({'Unique to GDP': unique_to_gdp, 'Unique to Obesity': unique_to_obesity})\n",
    "\n",
    "# Print the result\n",
    "display(result)"
   ]
  },
  {
   "cell_type": "code",
   "execution_count": null,
   "id": "c50a3a62",
   "metadata": {},
   "outputs": [],
   "source": [
    "import pandas as pd\n",
    "\n",
    "# Assuming the column names containing countries are 'Country' in both DataFrames\n",
    "\n",
    "# Extract the 'Country' column from each DataFrame\n",
    "gdp_countries = dados_pib['Country/Territory']\n",
    "obesity_countries = dados_obesidade['Country'].to_frame()\n",
    "\n",
    "# Find the unique countries in each DataFrame\n",
    "unique_to_gdp = gdp_countries[~gdp_countries.isin(obesity_countries)]\n",
    "unique_to_obesity = obesity_countries[~obesity_countries.isin(gdp_countries)]\n",
    "\n",
    "# Create DataFrames for the unique countries\n",
    "unique_to_gdp_df = pd.DataFrame({'Country': unique_to_gdp})\n",
    "unique_to_obesity_df = pd.DataFrame({'Country': unique_to_obesity})\n",
    "\n",
    "# Merge the DataFrames to get the unique country names\n",
    "result = pd.merge(unique_to_gdp_df, unique_to_obesity_df, on='Country', how='outer', indicator=True)\n",
    "\n",
    "# Filter the rows where the country is unique to one table\n",
    "result_unique = result[result['_merge'] != 'both']\n",
    "\n",
    "# Print the result\n",
    "print(result_unique)"
   ]
  },
  {
   "cell_type": "code",
   "execution_count": 18,
   "id": "0d4de95a",
   "metadata": {},
   "outputs": [],
   "source": [
    "correspondencia = {\n",
    "    \"United States\":\"United States of America\",\n",
    "    \"Israel\":\"Palestine\",\n",
    "    \"Dominican Republic\":\"Dominican Rep.\",\n",
    "    \"Czech Republic\":\"Czechia\",\n",
    "    \"North Macedonia\":\"Macedonia\",\n",
    "    \"Greenland\":\"Denmark\",\n",
    "    \"Bosnia and Herzegovina\":\"Bosnia and Herz.\",\n",
    "    \"Ivory Coast\":\"Côte d'Ivoire\",\n",
    "    \"Equatorial Guinea\":\"Eq. Guinea\",\n",
    "    \"Central African Republic\":\"Central African Rep.\",\n",
    "    \"Democratic Republic of the Congo\":\"Dem. Rep. Congo\",\n",
    "    \"South Sudan\":\"S. Sudan\",\n",
    "    \"Servia\":\"Kosovo\"\n",
    "}\n",
    "\n",
    "dados['Country'] = dados['Country'].replace(correspondencia)\n",
    "world['name'] = world['name'].replace(correspondencia)"
   ]
  },
  {
   "cell_type": "code",
   "execution_count": 19,
   "id": "c55260db",
   "metadata": {},
   "outputs": [
    {
     "ename": "NameError",
     "evalue": "name 'world' is not defined",
     "output_type": "error",
     "traceback": [
      "\u001b[1;31m------------------------------------------------------------------------\u001b[0m",
      "\u001b[1;31mNameError\u001b[0m                              Traceback (most recent call last)",
      "Cell \u001b[1;32mIn[19], line 1\u001b[0m\n\u001b[1;32m----> 1\u001b[0m dados \u001b[38;5;241m=\u001b[39m world\u001b[38;5;241m.\u001b[39mmerge(dados, how\u001b[38;5;241m=\u001b[39m\u001b[38;5;124m'\u001b[39m\u001b[38;5;124mleft\u001b[39m\u001b[38;5;124m'\u001b[39m, left_on\u001b[38;5;241m=\u001b[39m\u001b[38;5;124m'\u001b[39m\u001b[38;5;124mname\u001b[39m\u001b[38;5;124m'\u001b[39m, right_on\u001b[38;5;241m=\u001b[39m\u001b[38;5;124m'\u001b[39m\u001b[38;5;124mCountry\u001b[39m\u001b[38;5;124m'\u001b[39m)\n\u001b[0;32m      3\u001b[0m sem_uso_ou_repetidas \u001b[38;5;241m=\u001b[39m [\u001b[38;5;124m'\u001b[39m\u001b[38;5;124miso_a3\u001b[39m\u001b[38;5;124m'\u001b[39m, \u001b[38;5;124m'\u001b[39m\u001b[38;5;124mcontinent\u001b[39m\u001b[38;5;124m'\u001b[39m, \u001b[38;5;124m'\u001b[39m\u001b[38;5;124mpop_est\u001b[39m\u001b[38;5;124m'\u001b[39m, \u001b[38;5;124m'\u001b[39m\u001b[38;5;124mgeometry\u001b[39m\u001b[38;5;124m'\u001b[39m, \u001b[38;5;124m'\u001b[39m\u001b[38;5;124mCountry\u001b[39m\u001b[38;5;124m'\u001b[39m]\n\u001b[0;32m      5\u001b[0m dados\u001b[38;5;241m.\u001b[39mdrop(sem_uso_ou_repetidas, axis\u001b[38;5;241m=\u001b[39m\u001b[38;5;241m1\u001b[39m, inplace\u001b[38;5;241m=\u001b[39m\u001b[38;5;28;01mTrue\u001b[39;00m)\n",
      "\u001b[1;31mNameError\u001b[0m: name 'world' is not defined"
     ]
    }
   ],
   "source": [
    "dados = world.merge(dados, how='left', left_on='name', right_on='Country')\n",
    "\n",
    "sem_uso_ou_repetidas = ['iso_a3', 'continent', 'pop_est', 'geometry', 'Country']\n",
    "\n",
    "dados.drop(sem_uso_ou_repetidas, axis=1, inplace=True)\n",
    "\n",
    "dados.dropna(axis=0, inplace=True, subset='Obesity rate (%)')\n",
    "\n",
    "print(dados)"
   ]
  },
  {
   "cell_type": "code",
   "execution_count": 20,
   "id": "89dd7b05",
   "metadata": {
    "scrolled": false
   },
   "outputs": [
    {
     "data": {
      "image/png": "[encoded data removed]",
      "text/plain": [
       "<Figure size 640x480 with 1 Axes>"
      ]
     },
     "metadata": {},
     "output_type": "display_data"
    }
   ],
   "source": [
    "import matplotlib.pyplot as plt\n",
    "import numpy as np\n",
    "\n",
    "#pib = np.array(dados['gdp_md_est'])\n",
    "taxa_de_obesidade = np.array(dados['Obesity rate (%)'])\n",
    "\n",
    "plt.scatter(pib, taxa_de_obesidade)\n",
    "\n",
    "plt.xlabel('pib')\n",
    "plt.ylabel('taxa_de_obesidade')\n",
    "plt.title('Obesidade x PIB')\n",
    "\n",
    "plt.show()"
   ]
  },
  {
   "cell_type": "code",
   "execution_count": null,
   "id": "42ae426d",
   "metadata": {},
   "outputs": [],
   "source": []
  }
 ],
 "metadata": {
  "kernelspec": {
   "display_name": "Python 3 (ipykernel)",
   "language": "python",
   "name": "python3"
  },
  "language_info": {
   "codemirror_mode": {
    "name": "ipython",
    "version": 3
   },
   "file_extension": ".py",
   "mimetype": "text/x-python",
   "name": "python",
   "nbconvert_exporter": "python",
   "pygments_lexer": "ipython3",
   "version": "3.11.3"
  }
 },
 "nbformat": 4,
 "nbformat_minor": 5
}
