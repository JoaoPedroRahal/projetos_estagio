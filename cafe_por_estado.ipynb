{
 "cells": [
  {
   "cell_type": "code",
   "execution_count": 1,
   "id": "9e1b7032",
   "metadata": {},
   "outputs": [],
   "source": [
    "#Coffee Production of 2021 (in millions of 60kg bags)"
   ]
  },
  {
   "cell_type": "code",
   "execution_count": 2,
   "id": "11128fb1",
   "metadata": {},
   "outputs": [
    {
     "ename": "DriverError",
     "evalue": "bcim_2016_21_11_2018.gpkg: No such file or directory",
     "output_type": "error",
     "traceback": [
      "\u001b[1;31m---------------------------------------------------------------------------\u001b[0m",
      "\u001b[1;31mCPLE_OpenFailedError\u001b[0m                      Traceback (most recent call last)",
      "File \u001b[1;32mfiona\\ogrext.pyx:136\u001b[0m, in \u001b[0;36mfiona.ogrext.gdal_open_vector\u001b[1;34m()\u001b[0m\n",
      "File \u001b[1;32mfiona\\_err.pyx:291\u001b[0m, in \u001b[0;36mfiona._err.exc_wrap_pointer\u001b[1;34m()\u001b[0m\n",
      "\u001b[1;31mCPLE_OpenFailedError\u001b[0m: bcim_2016_21_11_2018.gpkg: No such file or directory",
      "\nDuring handling of the above exception, another exception occurred:\n",
      "\u001b[1;31mDriverError\u001b[0m                               Traceback (most recent call last)",
      "Cell \u001b[1;32mIn[2], line 8\u001b[0m\n\u001b[0;32m      2\u001b[0m \u001b[38;5;28;01mimport\u001b[39;00m \u001b[38;5;21;01mgeopandas\u001b[39;00m \u001b[38;5;28;01mas\u001b[39;00m \u001b[38;5;21;01mgpd\u001b[39;00m\n\u001b[0;32m      4\u001b[0m \u001b[38;5;66;03m#world_data = gpd.read_file(gpd.datasets.get_path('naturalearth_lowres'))\u001b[39;00m\n\u001b[0;32m      5\u001b[0m \n\u001b[0;32m      6\u001b[0m \u001b[38;5;66;03m#world_df = pd.DataFrame(world_data)\u001b[39;00m\n\u001b[1;32m----> 8\u001b[0m brazil_data \u001b[38;5;241m=\u001b[39m gpd\u001b[38;5;241m.\u001b[39mread_file(\u001b[38;5;124m'\u001b[39m\u001b[38;5;124mbcim_2016_21_11_2018.gpkg\u001b[39m\u001b[38;5;124m'\u001b[39m, layer \u001b[38;5;241m=\u001b[39m \u001b[38;5;124m'\u001b[39m\u001b[38;5;124mlim_unidade_federacao_a\u001b[39m\u001b[38;5;124m'\u001b[39m)\n\u001b[0;32m     10\u001b[0m brazil_df \u001b[38;5;241m=\u001b[39m pd\u001b[38;5;241m.\u001b[39mDataFrame(brazil_data)\n\u001b[0;32m     12\u001b[0m coffee_data \u001b[38;5;241m=\u001b[39m {\u001b[38;5;124m'\u001b[39m\u001b[38;5;124mState\u001b[39m\u001b[38;5;124m'\u001b[39m: [\u001b[38;5;124m'\u001b[39m\u001b[38;5;124mAcre\u001b[39m\u001b[38;5;124m'\u001b[39m, \u001b[38;5;124m'\u001b[39m\u001b[38;5;124mAlagoas\u001b[39m\u001b[38;5;124m'\u001b[39m, \u001b[38;5;124m'\u001b[39m\u001b[38;5;124mAmapá\u001b[39m\u001b[38;5;124m'\u001b[39m, \u001b[38;5;124m'\u001b[39m\u001b[38;5;124mAmazonas\u001b[39m\u001b[38;5;124m'\u001b[39m, \u001b[38;5;124m'\u001b[39m\u001b[38;5;124mBahia\u001b[39m\u001b[38;5;124m'\u001b[39m, \u001b[38;5;124m'\u001b[39m\u001b[38;5;124mCeará\u001b[39m\u001b[38;5;124m'\u001b[39m, \u001b[38;5;124m'\u001b[39m\u001b[38;5;124mEspírito Santo\u001b[39m\u001b[38;5;124m'\u001b[39m, \u001b[38;5;124m'\u001b[39m\u001b[38;5;124mGoiás\u001b[39m\u001b[38;5;124m'\u001b[39m, \u001b[38;5;124m'\u001b[39m\u001b[38;5;124mMaranhão\u001b[39m\u001b[38;5;124m'\u001b[39m, \u001b[38;5;124m'\u001b[39m\u001b[38;5;124mMato Grosso\u001b[39m\u001b[38;5;124m'\u001b[39m, \u001b[38;5;124m'\u001b[39m\u001b[38;5;124mMato Grosso do Sul\u001b[39m\u001b[38;5;124m'\u001b[39m, \u001b[38;5;124m'\u001b[39m\u001b[38;5;124mMinas Gerais\u001b[39m\u001b[38;5;124m'\u001b[39m, \u001b[38;5;124m'\u001b[39m\u001b[38;5;124mPará\u001b[39m\u001b[38;5;124m'\u001b[39m, \u001b[38;5;124m'\u001b[39m\u001b[38;5;124mParaíba\u001b[39m\u001b[38;5;124m'\u001b[39m, \u001b[38;5;124m'\u001b[39m\u001b[38;5;124mParaná\u001b[39m\u001b[38;5;124m'\u001b[39m, \u001b[38;5;124m'\u001b[39m\u001b[38;5;124mPernambuco\u001b[39m\u001b[38;5;124m'\u001b[39m, \u001b[38;5;124m'\u001b[39m\u001b[38;5;124mPiauí\u001b[39m\u001b[38;5;124m'\u001b[39m, \u001b[38;5;124m'\u001b[39m\u001b[38;5;124mRio de Janeiro\u001b[39m\u001b[38;5;124m'\u001b[39m, \u001b[38;5;124m'\u001b[39m\u001b[38;5;124mRio Grande do Norte\u001b[39m\u001b[38;5;124m'\u001b[39m, \u001b[38;5;124m'\u001b[39m\u001b[38;5;124mRio Grande do Sul\u001b[39m\u001b[38;5;124m'\u001b[39m, \u001b[38;5;124m'\u001b[39m\u001b[38;5;124mRondônia\u001b[39m\u001b[38;5;124m'\u001b[39m, \u001b[38;5;124m'\u001b[39m\u001b[38;5;124mRoraima\u001b[39m\u001b[38;5;124m'\u001b[39m, \u001b[38;5;124m'\u001b[39m\u001b[38;5;124mSanta Catarina\u001b[39m\u001b[38;5;124m'\u001b[39m, \u001b[38;5;124m'\u001b[39m\u001b[38;5;124mSão Paulo\u001b[39m\u001b[38;5;124m'\u001b[39m, \u001b[38;5;124m'\u001b[39m\u001b[38;5;124mSergipe\u001b[39m\u001b[38;5;124m'\u001b[39m, \u001b[38;5;124m'\u001b[39m\u001b[38;5;124mTocantins\u001b[39m\u001b[38;5;124m'\u001b[39m],\n\u001b[0;32m     13\u001b[0m         \u001b[38;5;124m'\u001b[39m\u001b[38;5;124mCoffee_Production\u001b[39m\u001b[38;5;124m'\u001b[39m: [\u001b[38;5;241m0.095\u001b[39m, \u001b[38;5;241m0.23\u001b[39m, \u001b[38;5;241m0.045\u001b[39m, \u001b[38;5;241m0.5\u001b[39m, \u001b[38;5;241m4.1\u001b[39m, \u001b[38;5;241m0.16\u001b[39m, \u001b[38;5;241m14.8\u001b[39m, \u001b[38;5;241m1.7\u001b[39m, \u001b[38;5;241m1.2\u001b[39m, \u001b[38;5;241m1.6\u001b[39m, \u001b[38;5;241m0.085\u001b[39m, \u001b[38;5;241m26.5\u001b[39m, \u001b[38;5;241m0.75\u001b[39m, \u001b[38;5;241m0.14\u001b[39m, \u001b[38;5;241m1.8\u001b[39m, \u001b[38;5;241m0.13\u001b[39m, \u001b[38;5;241m0.83\u001b[39m, \u001b[38;5;241m0.788\u001b[39m, \u001b[38;5;241m0.145\u001b[39m, \u001b[38;5;241m0.38\u001b[39m, \u001b[38;5;241m2.3\u001b[39m, \u001b[38;5;241m0.02\u001b[39m, \u001b[38;5;241m0.35\u001b[39m, \u001b[38;5;241m6.3\u001b[39m, \u001b[38;5;241m0.175\u001b[39m, \u001b[38;5;241m0.847\u001b[39m]}\n",
      "File \u001b[1;32m~\\.conda\\envs\\geo_env\\Lib\\site-packages\\geopandas\\io\\file.py:160\u001b[0m, in \u001b[0;36m_read_file\u001b[1;34m(filename, bbox, mask, rows, **kwargs)\u001b[0m\n\u001b[0;32m    157\u001b[0m     reader \u001b[38;5;241m=\u001b[39m fiona\u001b[38;5;241m.\u001b[39mopen\n\u001b[0;32m    159\u001b[0m \u001b[38;5;28;01mwith\u001b[39;00m fiona_env():\n\u001b[1;32m--> 160\u001b[0m     \u001b[38;5;28;01mwith\u001b[39;00m reader(path_or_bytes, \u001b[38;5;241m*\u001b[39m\u001b[38;5;241m*\u001b[39mkwargs) \u001b[38;5;28;01mas\u001b[39;00m features:\n\u001b[0;32m    161\u001b[0m \n\u001b[0;32m    162\u001b[0m         \u001b[38;5;66;03m# In a future Fiona release the crs attribute of features will\u001b[39;00m\n\u001b[0;32m    163\u001b[0m         \u001b[38;5;66;03m# no longer be a dict, but will behave like a dict. So this should\u001b[39;00m\n\u001b[0;32m    164\u001b[0m         \u001b[38;5;66;03m# be forwards compatible\u001b[39;00m\n\u001b[0;32m    165\u001b[0m         crs \u001b[38;5;241m=\u001b[39m (\n\u001b[0;32m    166\u001b[0m             features\u001b[38;5;241m.\u001b[39mcrs[\u001b[38;5;124m\"\u001b[39m\u001b[38;5;124minit\u001b[39m\u001b[38;5;124m\"\u001b[39m]\n\u001b[0;32m    167\u001b[0m             \u001b[38;5;28;01mif\u001b[39;00m features\u001b[38;5;241m.\u001b[39mcrs \u001b[38;5;129;01mand\u001b[39;00m \u001b[38;5;124m\"\u001b[39m\u001b[38;5;124minit\u001b[39m\u001b[38;5;124m\"\u001b[39m \u001b[38;5;129;01min\u001b[39;00m features\u001b[38;5;241m.\u001b[39mcrs\n\u001b[0;32m    168\u001b[0m             \u001b[38;5;28;01melse\u001b[39;00m features\u001b[38;5;241m.\u001b[39mcrs_wkt\n\u001b[0;32m    169\u001b[0m         )\n\u001b[0;32m    171\u001b[0m         \u001b[38;5;66;03m# handle loading the bounding box\u001b[39;00m\n",
      "File \u001b[1;32m~\\.conda\\envs\\geo_env\\Lib\\site-packages\\fiona\\env.py:457\u001b[0m, in \u001b[0;36mensure_env_with_credentials.<locals>.wrapper\u001b[1;34m(*args, **kwds)\u001b[0m\n\u001b[0;32m    454\u001b[0m     session \u001b[38;5;241m=\u001b[39m DummySession()\n\u001b[0;32m    456\u001b[0m \u001b[38;5;28;01mwith\u001b[39;00m env_ctor(session\u001b[38;5;241m=\u001b[39msession):\n\u001b[1;32m--> 457\u001b[0m     \u001b[38;5;28;01mreturn\u001b[39;00m f(\u001b[38;5;241m*\u001b[39margs, \u001b[38;5;241m*\u001b[39m\u001b[38;5;241m*\u001b[39mkwds)\n",
      "File \u001b[1;32m~\\.conda\\envs\\geo_env\\Lib\\site-packages\\fiona\\__init__.py:335\u001b[0m, in \u001b[0;36mopen\u001b[1;34m(fp, mode, driver, schema, crs, encoding, layer, vfs, enabled_drivers, crs_wkt, allow_unsupported_drivers, **kwargs)\u001b[0m\n\u001b[0;32m    332\u001b[0m     path \u001b[38;5;241m=\u001b[39m parse_path(fp)\n\u001b[0;32m    334\u001b[0m \u001b[38;5;28;01mif\u001b[39;00m mode \u001b[38;5;129;01min\u001b[39;00m (\u001b[38;5;124m\"\u001b[39m\u001b[38;5;124ma\u001b[39m\u001b[38;5;124m\"\u001b[39m, \u001b[38;5;124m\"\u001b[39m\u001b[38;5;124mr\u001b[39m\u001b[38;5;124m\"\u001b[39m):\n\u001b[1;32m--> 335\u001b[0m     colxn \u001b[38;5;241m=\u001b[39m Collection(\n\u001b[0;32m    336\u001b[0m         path,\n\u001b[0;32m    337\u001b[0m         mode,\n\u001b[0;32m    338\u001b[0m         driver\u001b[38;5;241m=\u001b[39mdriver,\n\u001b[0;32m    339\u001b[0m         encoding\u001b[38;5;241m=\u001b[39mencoding,\n\u001b[0;32m    340\u001b[0m         layer\u001b[38;5;241m=\u001b[39mlayer,\n\u001b[0;32m    341\u001b[0m         enabled_drivers\u001b[38;5;241m=\u001b[39menabled_drivers,\n\u001b[0;32m    342\u001b[0m         allow_unsupported_drivers\u001b[38;5;241m=\u001b[39mallow_unsupported_drivers,\n\u001b[0;32m    343\u001b[0m         \u001b[38;5;241m*\u001b[39m\u001b[38;5;241m*\u001b[39mkwargs\n\u001b[0;32m    344\u001b[0m     )\n\u001b[0;32m    345\u001b[0m \u001b[38;5;28;01melif\u001b[39;00m mode \u001b[38;5;241m==\u001b[39m \u001b[38;5;124m\"\u001b[39m\u001b[38;5;124mw\u001b[39m\u001b[38;5;124m\"\u001b[39m:\n\u001b[0;32m    346\u001b[0m     colxn \u001b[38;5;241m=\u001b[39m Collection(\n\u001b[0;32m    347\u001b[0m         path,\n\u001b[0;32m    348\u001b[0m         mode,\n\u001b[1;32m   (...)\u001b[0m\n\u001b[0;32m    357\u001b[0m         \u001b[38;5;241m*\u001b[39m\u001b[38;5;241m*\u001b[39mkwargs\n\u001b[0;32m    358\u001b[0m     )\n",
      "File \u001b[1;32m~\\.conda\\envs\\geo_env\\Lib\\site-packages\\fiona\\collection.py:234\u001b[0m, in \u001b[0;36mCollection.__init__\u001b[1;34m(self, path, mode, driver, schema, crs, encoding, layer, vsi, archive, enabled_drivers, crs_wkt, ignore_fields, ignore_geometry, include_fields, wkt_version, allow_unsupported_drivers, **kwargs)\u001b[0m\n\u001b[0;32m    232\u001b[0m \u001b[38;5;28;01mif\u001b[39;00m \u001b[38;5;28mself\u001b[39m\u001b[38;5;241m.\u001b[39mmode \u001b[38;5;241m==\u001b[39m \u001b[38;5;124m\"\u001b[39m\u001b[38;5;124mr\u001b[39m\u001b[38;5;124m\"\u001b[39m:\n\u001b[0;32m    233\u001b[0m     \u001b[38;5;28mself\u001b[39m\u001b[38;5;241m.\u001b[39msession \u001b[38;5;241m=\u001b[39m Session()\n\u001b[1;32m--> 234\u001b[0m     \u001b[38;5;28mself\u001b[39m\u001b[38;5;241m.\u001b[39msession\u001b[38;5;241m.\u001b[39mstart(\u001b[38;5;28mself\u001b[39m, \u001b[38;5;241m*\u001b[39m\u001b[38;5;241m*\u001b[39mkwargs)\n\u001b[0;32m    235\u001b[0m \u001b[38;5;28;01melif\u001b[39;00m \u001b[38;5;28mself\u001b[39m\u001b[38;5;241m.\u001b[39mmode \u001b[38;5;129;01min\u001b[39;00m (\u001b[38;5;124m\"\u001b[39m\u001b[38;5;124ma\u001b[39m\u001b[38;5;124m\"\u001b[39m, \u001b[38;5;124m\"\u001b[39m\u001b[38;5;124mw\u001b[39m\u001b[38;5;124m\"\u001b[39m):\n\u001b[0;32m    236\u001b[0m     \u001b[38;5;28mself\u001b[39m\u001b[38;5;241m.\u001b[39msession \u001b[38;5;241m=\u001b[39m WritingSession()\n",
      "File \u001b[1;32mfiona\\ogrext.pyx:587\u001b[0m, in \u001b[0;36mfiona.ogrext.Session.start\u001b[1;34m()\u001b[0m\n",
      "File \u001b[1;32mfiona\\ogrext.pyx:143\u001b[0m, in \u001b[0;36mfiona.ogrext.gdal_open_vector\u001b[1;34m()\u001b[0m\n",
      "\u001b[1;31mDriverError\u001b[0m: bcim_2016_21_11_2018.gpkg: No such file or directory"
     ]
    }
   ],
   "source": [
    "import pandas as pd\n",
    "import geopandas as gpd\n",
    "\n",
    "#world_data = gpd.read_file(gpd.datasets.get_path('naturalearth_lowres'))\n",
    "\n",
    "#world_df = pd.DataFrame(world_data)\n",
    "\n",
    "brazil_data = gpd.read_file('bcim_2016_21_11_2018.gpkg', layer = 'lim_unidade_federacao_a')\n",
    "\n",
    "brazil_df = pd.DataFrame(brazil_data)\n",
    "\n",
    "coffee_data = {'State': ['Acre', 'Alagoas', 'Amapá', 'Amazonas', 'Bahia', 'Ceará', 'Espírito Santo', 'Goiás', 'Maranhão', 'Mato Grosso', 'Mato Grosso do Sul', 'Minas Gerais', 'Pará', 'Paraíba', 'Paraná', 'Pernambuco', 'Piauí', 'Rio de Janeiro', 'Rio Grande do Norte', 'Rio Grande do Sul', 'Rondônia', 'Roraima', 'Santa Catarina', 'São Paulo', 'Sergipe', 'Tocantins'],\n",
    "        'Coffee_Production': [0.095, 0.23, 0.045, 0.5, 4.1, 0.16, 14.8, 1.7, 1.2, 1.6, 0.085, 26.5, 0.75, 0.14, 1.8, 0.13, 0.83, 0.788, 0.145, 0.38, 2.3, 0.02, 0.35, 6.3, 0.175, 0.847]}\n",
    "\n",
    "coffee_df = pd.DataFrame(coffee_data)\n",
    "\n",
    "brazil_df = brazil_df.rename(columns={'nome':'State'})\n",
    "\n",
    "coffee_brazil_df = pd.merge(coffee_df, brazil_df, on='State', how='inner')\n",
    "\n",
    "#display(coffee_df)\n",
    "#brazil.columns\n",
    "#display(brazil_df)\n",
    "#display(coffee_brazil_df)\n",
    "#display(world_df)"
   ]
  },
  {
   "cell_type": "code",
   "execution_count": null,
   "id": "c39cb1bb",
   "metadata": {},
   "outputs": [],
   "source": [
    "no_use_or_repeated = ['nomeabrev', 'geocodigo', 'geometriaaproximada', 'id_produtor', 'id_elementoprodutor', 'cd_insumo_orgao', 'nr_insumo_mes', 'nr_insumo_ano', 'tx_insumo_documento']\n",
    "\n",
    "if all(col in coffee_brazil_df for col in no_use_or_repeated):\n",
    "        coffee_brazil_df.drop(no_use_or_repeated, axis=1, inplace=True)\n",
    "\n",
    "#display(coffee_brazil_df)\n",
    "\n",
    "#coffee_brazil_world_df = world_df.merge(coffee_brazil_df, how='left', left_on='geometry', right_on='nome')\n",
    "\n",
    "#coffee_brazil_world_df = pd.merge(coffee_brazil_df, world_df, on)\n",
    "\n",
    "#display(coffee_brazil_world_df)"
   ]
  },
  {
   "cell_type": "code",
   "execution_count": null,
   "id": "8cc0638d",
   "metadata": {},
   "outputs": [],
   "source": [
    "from unidecode import unidecode\n",
    "\n",
    "brazil_df['State'] = brazil_df['State'].apply(lambda x: unidecode(x))\n",
    "\n",
    "coffee_brazil_df['State'] = coffee_brazil_df['State'].apply(lambda x: unidecode(x))\n",
    "\n",
    "#display(coffee_brazil_df)"
   ]
  },
  {
   "cell_type": "code",
   "execution_count": null,
   "id": "46211e24",
   "metadata": {},
   "outputs": [],
   "source": [
    "# Convert the DataFrame to a GeoDataFrame\n",
    "gdf = gpd.GeoDataFrame(coffee_brazil_df)\n",
    "\n",
    "# Save the GeoDataFrame as a GeoJSON file\n",
    "geojson_path = 'coffee_brazil.geojson'\n",
    "gdf.to_file(geojson_path, driver='GeoJSON')"
   ]
  },
  {
   "cell_type": "markdown",
   "id": "f9a6b1e2",
   "metadata": {},
   "source": [
    "txtest = brazil_df.to_string()\n",
    "\n",
    "file_path = 'braziltest.txt'\n",
    "\n",
    "with open(file_path, 'w') as file:\n",
    "    file.write(txtest)"
   ]
  },
  {
   "cell_type": "markdown",
   "id": "d7aed39e",
   "metadata": {},
   "source": [
    "from shapely.geometry import shape\n",
    "\n",
    "#print(coffee_brazil_df.dtypes)\n",
    "#print(coffee_brazil_df['geometry'].isnull().sum())\n",
    "for geometry in coffee_brazil_df['geometry']:\n",
    "    if not geometry.is_valid:\n",
    "        print(f\"Invalid geometry: {geometry}\")"
   ]
  },
  {
   "cell_type": "code",
   "execution_count": null,
   "id": "122e8ca9",
   "metadata": {},
   "outputs": [],
   "source": [
    "import folium\n",
    "\n",
    "map = folium.Map(location=[-15, -50], zoom_start=3.5 )\n",
    "\n",
    "folium.Choropleth(\n",
    "    geo_data=geojson_path,\n",
    "    name='choropleth',\n",
    "    data=coffee_brazil_df,\n",
    "    columns=['State', 'Coffee_Production'],\n",
    "    key_on='feature.properties.State',\n",
    "    fill_color='YlGn',\n",
    "    fill_opacity=0.7,\n",
    "    line_opacity=0.2,\n",
    "    legend_name='Coffee Production'\n",
    ").add_to(map)\n",
    "\n",
    "folium.LayerControl().add_to(map)\n",
    "\n",
    "map.save('coffee_brazil_map.html')"
   ]
  },
  {
   "cell_type": "code",
   "execution_count": null,
   "id": "f3742640",
   "metadata": {
    "scrolled": true
   },
   "outputs": [],
   "source": [
    "#import pandas as pd\n",
    "#import geopandas as gpd\n",
    "#from unidecode import unidecode\n",
    "#import json\n",
    "\n",
    "with open('br.json', encoding='utf-8') as file:\n",
    "    city_data = json.load(file)\n",
    "    \n",
    "for city_info in city_data:\n",
    "    city = city_info['city']\n",
    "    lat = float(city_info['lat'])\n",
    "    lon = float(city_info['lng'])\n",
    "    \n",
    "    marker = folium.Marker(location=[lat, lon], popup=city)\n",
    "    marker.add_to(map)\n",
    "    \n",
    "map.save('coffee_brazil_map.html')"
   ]
  },
  {
   "cell_type": "code",
   "execution_count": null,
   "id": "41d253aa",
   "metadata": {},
   "outputs": [],
   "source": []
  }
 ],
 "metadata": {
  "kernelspec": {
   "display_name": "Python 3 (ipykernel)",
   "language": "python",
   "name": "python3"
  },
  "language_info": {
   "codemirror_mode": {
    "name": "ipython",
    "version": 3
   },
   "file_extension": ".py",
   "mimetype": "text/x-python",
   "name": "python",
   "nbconvert_exporter": "python",
   "pygments_lexer": "ipython3",
   "version": "3.11.3"
  }
 },
 "nbformat": 4,
 "nbformat_minor": 5
}
