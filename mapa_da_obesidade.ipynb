{
 "cells": [
  {
   "cell_type": "markdown",
   "id": "6745a780",
   "metadata": {},
   "source": [
    "A biblioteca pandas fornece maneiras de se ler dados genéricos em tabelas de diversas origens, neste caso, importamos uma tabela de uma página web através da função pd.read_html(url). O resultado da leitura é um vetor que possui todas as tabelas da página, de onde vamos separar a tabela específica que queremos em um dataFrame.\n",
    "\n",
    "O geopandas se trata de uma extensão do pandas, de modo que seus métodos são similares. O método gpd.read_file(file) busca nos arquivos da biblioteca um mapa especificado, nesse caso, um mapa mundi na projeção de Mercator."
   ]
  },
  {
   "cell_type": "code",
   "execution_count": 5,
   "id": "cb38f758",
   "metadata": {
    "scrolled": true
   },
   "outputs": [],
   "source": [
    "import pandas as pd\n",
    "import geopandas as gpd\n",
    "\n",
    "url = 'https://en.wikipedia.org/wiki/List_of_countries_by_obesity_rate'\n",
    "tabelas = pd.read_html(url)\n",
    "dados = tabelas[0]\n",
    "\n",
    "world = gpd.read_file(gpd.datasets.get_path('naturalearth_lowres'))"
   ]
  },
  {
   "cell_type": "markdown",
   "id": "dbcfbfe6",
   "metadata": {},
   "source": [
    "pd.set_option('display.max_rows', None)     # Mostrar todas as linhas\n",
    "pd.set_option('display.max_columns', None)  # Mostrar todas as colunas\n",
    "pd.set_option('display.width', None)        # Mostrar tudo alinhado \n",
    "pd.reset_option('display.max_rows')       #{\n",
    "pd.reset_option('display.max_columns')    #{ Resetar as configurações\n",
    "pd.reset_option('display.width')          #{"
   ]
  },
  {
   "cell_type": "markdown",
   "id": "9b203c98",
   "metadata": {},
   "source": [
    "A biblioteca \"fuzzywuzzy\" fornece opções de comparação e manipulação de dados, permitindo que as linhas de diferentes colunas sejam comparadas, de modo que é possível gerar uma tabela que demonstra os nomes mais parecidos. Nesse caso, pequenas mudanças nos nomes de países podem ser encontradas (por exemplo os Estados Unidos, que podem constar como United States ou United States of America e a Costa do Marfim, que pode ser chamada de Ivory Coast ou Côte d'Ivorie)."
   ]
  },
  {
   "cell_type": "code",
   "execution_count": 6,
   "id": "ffc37a98",
   "metadata": {},
   "outputs": [
    {
     "name": "stdout",
     "output_type": "stream",
     "text": [
      "                               Nome1                     Nome2\n",
      "0                              Nauru                 N. Cyprus\n",
      "1                       Cook Islands              Falkland Is.\n",
      "2                              Palau                 Palestine\n",
      "3                   Marshall Islands              Falkland Is.\n",
      "4                             Tuvalu                    Taiwan\n",
      "5                               Niue                 Palestine\n",
      "6                              Tonga                     Congo\n",
      "7                              Samoa                   Myanmar\n",
      "8                           Kiribati                  eSwatini\n",
      "9     Federated States of Micronesia  United States of America\n",
      "10                     United States  United States of America\n",
      "11                           Bahrain                 W. Sahara\n",
      "12                             Malta                   Myanmar\n",
      "13                          Dominica            Dominican Rep.\n",
      "14                Dominican Republic            Dominican Rep.\n",
      "15                    Czech Republic                   Czechia\n",
      "16                           Andorra                Antarctica\n",
      "17  Saint Vincent and the Grenadines          Bosnia and Herz.\n",
      "18                          Barbados              Falkland Is.\n",
      "19             Saint Kitts and Nevis  United States of America\n",
      "20                   Solomon Islands               Solomon Is.\n",
      "21                   North Macedonia                 Macedonia\n",
      "22                           Grenada                 Greenland\n",
      "23                       Saint Lucia                  eSwatini\n",
      "24               Antigua and Barbuda          Bosnia and Herz.\n",
      "25            Bosnia and Herzegovina          Bosnia and Herz.\n",
      "26                          Eswatini                  eSwatini\n",
      "27                        Seychelles                   Czechia\n",
      "28             São Tomé and Príncipe                Somaliland\n",
      "29                        Cape Verde             Côte d'Ivoire\n",
      "30                         Mauritius                Antarctica\n",
      "31                       Ivory Coast             Côte d'Ivoire\n",
      "32             Republic of the Congo           Dem. Rep. Congo\n",
      "33                          Maldives                 Palestine\n",
      "34                 Equatorial Guinea                Eq. Guinea\n",
      "35                           Comoros                     Congo\n",
      "36          Central African Republic      Central African Rep.\n",
      "37  Democratic Republic of the Congo           Dem. Rep. Congo\n",
      "38                       South Sudan                  S. Sudan\n",
      "39                         Singapore                     Congo\n"
     ]
    }
   ],
   "source": [
    "from fuzzywuzzy import fuzz\n",
    "\n",
    "pd.set_option('display.max_rows', None)  # Mostrar todas as linhas\n",
    "\n",
    "dados_teste = dados.copy()\n",
    "world_teste = world.copy()\n",
    "\n",
    "dados_teste['Country'] = dados_teste['Country'].reset_index(drop=True)\n",
    "world_teste['name'] = world_teste['name'].reset_index(drop=True)\n",
    "\n",
    "linhas_extras_dados = dados_teste['Country'][~dados_teste['Country'].isin(world_teste['name'])]\n",
    "linhas_extras_world = world_teste['name'][~world_teste['name'].isin(dados_teste['Country'])]\n",
    "\n",
    "# Listas para armazenar os pares de correspondência\n",
    "correspondencias = []\n",
    "\n",
    "# Iterar pelos nomes dos países em uma das tabelas\n",
    "for nome1 in linhas_extras_dados:\n",
    "    melhor_correspondencia = None\n",
    "    melhor_pontuacao = 0\n",
    "\n",
    "    # Comparar com os nomes dos países na outra tabela\n",
    "    for nome2 in linhas_extras_world:\n",
    "        pontuacao = fuzz.ratio(nome1, nome2)\n",
    "\n",
    "        # Atualizar a melhor correspondência se a pontuação for maior\n",
    "        if pontuacao > melhor_pontuacao:\n",
    "            melhor_pontuacao = pontuacao\n",
    "            melhor_correspondencia = nome2\n",
    "\n",
    "    # Adicionar a correspondência à lista de pares\n",
    "    correspondencias.append((nome1, melhor_correspondencia))\n",
    "\n",
    "# Criar um DataFrame com as correspondências\n",
    "tabela_correspondencias = pd.DataFrame(correspondencias, columns=['Nome1', 'Nome2'])\n",
    "\n",
    "# Imprimir a tabela de correspondências\n",
    "print(tabela_correspondencias)"
   ]
  },
  {
   "cell_type": "markdown",
   "id": "48f860b7",
   "metadata": {},
   "source": [
    "Continuando o trabalho da célula anterior, podemos substituir os nomes diferentes criando correspondências e utilizando .replace[]. Apesar de conveniente, ainda não é um método perfeito. Muitas nações pequenas ficam de fora, e certas áreas do mapa como \"W. Sahara\", precisam ser adicionadas à países. Temos também o problema de juntas nações que não se consideram a mesma, por exemplo Sérvia e Kosovo ou Israel e Palestina, porém muitas dessas disputas não interferem em processos de coleta de dados (como o censo nacional), de maneira que é possível juntar essas áreas por conveniência. Por fim, territórios não conectados como a Groenlândia e a Guiana Francesa, que possuem uma dinâmica populacional bem diferente, ainda ficam com os mesmos dados das nações principais. "
   ]
  },
  {
   "cell_type": "code",
   "execution_count": 7,
   "id": "0d4de95a",
   "metadata": {},
   "outputs": [],
   "source": [
    "correspondencia = {\n",
    "    \"United States\":\"United States of America\",\n",
    "    \"Israel\":\"Palestine\",\n",
    "    \"Dominican Republic\":\"Dominican Rep.\",\n",
    "    \"Czech Republic\":\"Czechia\",\n",
    "    \"North Macedonia\":\"Macedonia\",\n",
    "    \"Greenland\":\"Denmark\",\n",
    "    \"Bosnia and Herzegovina\":\"Bosnia and Herz.\",\n",
    "    \"Ivory Coast\":\"Côte d'Ivoire\",\n",
    "    \"Equatorial Guinea\":\"Eq. Guinea\",\n",
    "    \"Central African Republic\":\"Central African Rep.\",\n",
    "    \"Democratic Republic of the Congo\":\"Dem. Rep. Congo\",\n",
    "    \"South Sudan\":\"S. Sudan\",\n",
    "    \"Servia\":\"Kosovo\"\n",
    "}\n",
    "\n",
    "dados['Country'] = dados['Country'].replace(correspondencia)\n",
    "world['name'] = world['name'].replace(correspondencia)"
   ]
  },
  {
   "cell_type": "code",
   "execution_count": 8,
   "id": "c55260db",
   "metadata": {},
   "outputs": [],
   "source": [
    "dados = world.merge(dados, how='left', left_on='name', right_on='Country')\n",
    "\n",
    "sem_uso_ou_repetidas = ['gdp_md_est', 'iso_a3', 'continent', 'pop_est']\n",
    "\n",
    "dados.drop(sem_uso_ou_repetidas, axis=1, inplace=True)\n",
    "\n",
    "dados.dropna(axis=0, inplace=True, subset='Obesity rate (%)')"
   ]
  },
  {
   "cell_type": "markdown",
   "id": "5381f869",
   "metadata": {},
   "source": [
    "Por fim, usamos o folium para gerar o mapa e cruzar os dados."
   ]
  },
  {
   "cell_type": "code",
   "execution_count": 10,
   "id": "d78586db",
   "metadata": {},
   "outputs": [],
   "source": [
    "import folium\n",
    "from folium.plugins import MarkerCluster\n",
    "\n",
    "mapa_obesidade = folium.Map()\n",
    "folium.Choropleth(\n",
    "    geo_data=dados,\n",
    "    name='choropleth',\n",
    "    data=dados,\n",
    "    columns=['name', 'Obesity rate (%)'],\n",
    "    key_on='feature.properties.name',\n",
    "    fill_color='OrRd',\n",
    "    fill_opacity=0.9,\n",
    "    line_opacity=0.1,\n",
    "    legend_name='Taxa de obesidade proporcional da população em %'\n",
    ").add_to(mapa_obesidade)\n",
    "mapa_obesidade.save('obes.html')"
   ]
  },
  {
   "cell_type": "code",
   "execution_count": null,
   "id": "6a5d97f2",
   "metadata": {},
   "outputs": [],
   "source": []
  }
 ],
 "metadata": {
  "kernelspec": {
   "display_name": "Python 3 (ipykernel)",
   "language": "python",
   "name": "python3"
  },
  "language_info": {
   "codemirror_mode": {
    "name": "ipython",
    "version": 3
   },
   "file_extension": ".py",
   "mimetype": "text/x-python",
   "name": "python",
   "nbconvert_exporter": "python",
   "pygments_lexer": "ipython3",
   "version": "3.11.3"
  }
 },
 "nbformat": 4,
 "nbformat_minor": 5
}
