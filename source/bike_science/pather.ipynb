{
 "cells": [
  {
   "cell_type": "code",
   "execution_count": 1,
   "id": "882f9415",
   "metadata": {
    "scrolled": false
   },
   "outputs": [],
   "source": [
    "def graphopper_request(url, row):\n",
    "    p_latitude = row['polygon1_center'].y\n",
    "    p_longitude = row['polygon1_center'].x\n",
    "    c_latitude = row['polygon2_center'].y\n",
    "    c_longitude = row['polygon2_center'].x\n",
    "    response = requests.get(url.format(p_latitude, p_longitude, c_latitude, c_longitude))\n",
    "    if response.status_code == 200:\n",
    "        json_data = response.json()\n",
    "        return json_data\n",
    "    else:\n",
    "        raise Exception(f\"Error: {response.status_code}\")\n",
    "\n",
    "def graphhopper_pather(POI_gdf, json_filename, limit):\n",
    "\n",
    "    graph_hopper_key = '5ff51c95-019f-422b-aab5-777d90552c28'\n",
    "\n",
    "    url = 'https://graphhopper.com/api/1/route?key=' + graph_hopper_key + \\\n",
    "    '&point={},{}&point={},{}&vehicle=bike&elevation=true&type=json&points_encoded=false'\n",
    "\n",
    "    gdf = gpd.GeoDataFrame(geometry=[])\n",
    "\n",
    "    for index, row in POI_gdf.head(limit).iterrows():\n",
    "        data_from_request = graphopper_request(url, row)\n",
    "        gdf = gdf.append(data_from_request, ignore_index=True)\n",
    "\n",
    "    gdf = convert_list_columns_to_str(gdf)\n",
    "\n",
    "    save_json(gdf, json_filename)"
   ]
  }
 ],
 "metadata": {
  "kernelspec": {
   "display_name": "Python 3 (ipykernel)",
   "language": "python",
   "name": "python3"
  },
  "language_info": {
   "codemirror_mode": {
    "name": "ipython",
    "version": 3
   },
   "file_extension": ".py",
   "mimetype": "text/x-python",
   "name": "python",
   "nbconvert_exporter": "python",
   "pygments_lexer": "ipython3",
   "version": "3.11.3"
  }
 },
 "nbformat": 4,
 "nbformat_minor": 5
}
