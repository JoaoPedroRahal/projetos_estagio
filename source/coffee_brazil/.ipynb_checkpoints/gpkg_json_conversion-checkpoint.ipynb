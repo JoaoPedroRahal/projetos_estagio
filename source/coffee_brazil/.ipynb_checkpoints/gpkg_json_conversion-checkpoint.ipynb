{
 "cells": [
  {
   "cell_type": "code",
   "execution_count": null,
   "id": "1c174abf",
   "metadata": {},
   "outputs": [],
   "source": [
    "import pandas as pd\n",
    "import geopandas as gpd"
   ]
  },
  {
   "cell_type": "code",
   "execution_count": null,
   "id": "4395bd0a",
   "metadata": {},
   "outputs": [],
   "source": [
    "# Read the geopackage data extracted from IBGE\n",
    "brazil_data = gpd.read_file('bcim_2016_21_11_2018.gpkg', layer = 'lim_unidade_federacao_a')\n",
    "\n",
    "# Convert into dataframe format\n",
    "brazil_df = pd.DataFrame(brazil_data)\n",
    "\n",
    "# Change the nome column to State, for the future inner join\n",
    "brazil_df = brazil_df.rename(columns={'nome':'State'})\n",
    "\n",
    "#brazil_df.columns\n",
    "#display(brazil_df)"
   ]
  },
  {
   "cell_type": "code",
   "execution_count": null,
   "id": "79d82232",
   "metadata": {},
   "outputs": [],
   "source": [
    "# Insert the coffee production by state in coffee bags (unity of measure used in the area, each bag weights 60kg) in 2021\n",
    "coffee_data = {'State': ['Acre', 'Alagoas', 'Amapá', 'Amazonas', 'Bahia', 'Ceará', 'Espírito Santo', 'Goiás', 'Maranhão', 'Mato Grosso', 'Mato Grosso do Sul', 'Minas Gerais', 'Pará', 'Paraíba', 'Paraná', 'Pernambuco', 'Piauí', 'Rio de Janeiro', 'Rio Grande do Norte', 'Rio Grande do Sul', 'Rondônia', 'Roraima', 'Santa Catarina', 'São Paulo', 'Sergipe', 'Tocantins'],\n",
    "        'Coffee_Production': [0.095, 0.23, 0.045, 0.5, 4.1, 0.16, 14.8, 1.7, 1.2, 1.6, 0.085, 26.5, 0.75, 0.14, 1.8, 0.13, 0.83, 0.788, 0.145, 0.38, 2.3, 0.02, 0.35, 6.3, 0.175, 0.847]}\n",
    "\n",
    "# Convert into dataframe format\n",
    "coffee_df = pd.DataFrame(coffee_data)\n",
    "\n",
    "#coffee_df.columns\n",
    "#display(coffee_df)"
   ]
  },
  {
   "cell_type": "code",
   "execution_count": null,
   "id": "c837f23f",
   "metadata": {},
   "outputs": [],
   "source": [
    "#merging the dataframes\n",
    "coffee_brazil_df = pd.merge(coffee_df, brazil_df, on='State', how='inner')\n",
    "\n",
    "#coffee_brazil_df.columns\n",
    "#display(coffee_brazil_df)"
   ]
  },
  {
   "cell_type": "code",
   "execution_count": null,
   "id": "46c797fd",
   "metadata": {},
   "outputs": [],
   "source": [
    "# Remove columns not useful for map generation\n",
    "no_use_or_repeated = ['nomeabrev', 'geocodigo', 'geometriaaproximada', 'id_produtor', 'id_elementoprodutor', 'cd_insumo_orgao', 'nr_insumo_mes', 'nr_insumo_ano', 'tx_insumo_documento']\n",
    "\n",
    "if all(col in coffee_brazil_df for col in no_use_or_repeated):\n",
    "        coffee_brazil_df.drop(no_use_or_repeated, axis=1, inplace=True)\n",
    "\n",
    "#display(coffee_brazil_df)"
   ]
  },
  {
   "cell_type": "code",
   "execution_count": null,
   "id": "496f7ee6",
   "metadata": {},
   "outputs": [],
   "source": [
    "from unidecode import unidecode\n",
    "\n",
    "# Remove special characters from the state's names\n",
    "coffee_brazil_df['State'] = coffee_brazil_df['State'].apply(lambda x: unidecode(x))\n",
    "\n",
    "#display(coffee_brazil_df)"
   ]
  },
  {
   "cell_type": "code",
   "execution_count": null,
   "id": "95ed804f",
   "metadata": {},
   "outputs": [],
   "source": [
    "# Convert the DataFrame to a GeoDataFrame\n",
    "gdf = gpd.GeoDataFrame(coffee_brazil_df)\n",
    "\n",
    "# Save the GeoDataFrame as a GeoJSON file\n",
    "geojson_path = 'coffee_brazil.geojson'\n",
    "gdf.to_file(geojson_path, driver='GeoJSON')"
   ]
  }
 ],
 "metadata": {
  "kernelspec": {
   "display_name": "Python 3 (ipykernel)",
   "language": "python",
   "name": "python3"
  },
  "language_info": {
   "codemirror_mode": {
    "name": "ipython",
    "version": 3
   },
   "file_extension": ".py",
   "mimetype": "text/x-python",
   "name": "python",
   "nbconvert_exporter": "python",
   "pygments_lexer": "ipython3",
   "version": "3.11.3"
  }
 },
 "nbformat": 4,
 "nbformat_minor": 5
}
