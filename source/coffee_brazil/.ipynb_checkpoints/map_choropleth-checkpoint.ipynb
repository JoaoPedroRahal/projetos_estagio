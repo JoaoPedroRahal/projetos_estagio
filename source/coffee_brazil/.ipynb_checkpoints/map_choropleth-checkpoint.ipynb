{
 "cells": [
  {
   "cell_type": "code",
   "execution_count": 26,
   "id": "93def3d4",
   "metadata": {},
   "outputs": [],
   "source": [
    "import folium\n",
    "import pandas as pd\n",
    "import geopandas as gpd"
   ]
  },
  {
   "cell_type": "code",
   "execution_count": 27,
   "id": "9f8d5409",
   "metadata": {},
   "outputs": [],
   "source": [
    "# Create the world map\n",
    "mp = folium.Map(location=[-15, -50], zoom_start=3.5 )"
   ]
  },
  {
   "cell_type": "code",
   "execution_count": 28,
   "id": "923f2287",
   "metadata": {},
   "outputs": [],
   "source": [
    "# Import the Dataframe containing the state's polygonal data and the coffee production\n",
    "geojson_path = 'coffee_brazil.geojson'\n",
    "coffee_brazil_df = gpd.read_file(geojson_path)\n",
    "\n",
    "#display(coffee_brazil_df)"
   ]
  },
  {
   "cell_type": "code",
   "execution_count": 29,
   "id": "ec23f28f",
   "metadata": {},
   "outputs": [],
   "source": [
    "bins = list(coffee_brazil_df[\"Coffee_Production\"].quantile([0, 0.125, 0.25, 0.5, 0.75, 1]))"
   ]
  },
  {
   "cell_type": "code",
   "execution_count": 30,
   "id": "30d29843",
   "metadata": {},
   "outputs": [
    {
     "data": {
      "text/plain": [
       "<folium.map.LayerControl at 0x27258ac60d0>"
      ]
     },
     "execution_count": 30,
     "metadata": {},
     "output_type": "execute_result"
    }
   ],
   "source": [
    "# Overlay the colored polygons with Brazil's map\n",
    "folium.Choropleth(\n",
    "    geo_data=geojson_path,\n",
    "    name='choropleth',\n",
    "    data=coffee_brazil_df,\n",
    "    columns=['State', 'Coffee_Production'],\n",
    "    key_on='feature.properties.State',\n",
    "    fill_color='YlGn',\n",
    "    fill_opacity=0.7,\n",
    "    line_opacity=0.2,\n",
    "    legend_name='Coffee Production in millions of bags (60kg) in the year 2021',\n",
    "    bins = bins\n",
    ").add_to(mp)\n",
    "\n",
    "folium.LayerControl().add_to(mp)"
   ]
  },
  {
   "cell_type": "code",
   "execution_count": 31,
   "id": "586552ce",
   "metadata": {},
   "outputs": [],
   "source": [
    "# Save the map\n",
    "mp.save('brazil_coffee_choropleth.html')"
   ]
  },
  {
   "cell_type": "code",
   "execution_count": null,
   "id": "b1ef7c7d",
   "metadata": {},
   "outputs": [],
   "source": []
  },
  {
   "cell_type": "code",
   "execution_count": null,
   "id": "8edbbd4e",
   "metadata": {},
   "outputs": [],
   "source": []
  }
 ],
 "metadata": {
  "kernelspec": {
   "display_name": "Python 3 (ipykernel)",
   "language": "python",
   "name": "python3"
  },
  "language_info": {
   "codemirror_mode": {
    "name": "ipython",
    "version": 3
   },
   "file_extension": ".py",
   "mimetype": "text/x-python",
   "name": "python",
   "nbconvert_exporter": "python",
   "pygments_lexer": "ipython3",
   "version": "3.11.3"
  }
 },
 "nbformat": 4,
 "nbformat_minor": 5
}
