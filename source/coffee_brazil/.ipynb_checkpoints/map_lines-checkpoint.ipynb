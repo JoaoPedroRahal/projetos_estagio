{
 "cells": [
  {
   "cell_type": "code",
   "execution_count": 1,
   "id": "1a31a6be",
   "metadata": {},
   "outputs": [],
   "source": [
    "import folium\n",
    "import pandas as pd\n",
    "import json\n",
    "from unidecode import unidecode"
   ]
  },
  {
   "cell_type": "code",
   "execution_count": 2,
   "id": "d0064fe6",
   "metadata": {},
   "outputs": [],
   "source": [
    "# Create the world map\n",
    "mp = folium.Map(location=[-15, -50], zoom_start=3.5 )"
   ]
  },
  {
   "cell_type": "code",
   "execution_count": 3,
   "id": "4e028c8c",
   "metadata": {},
   "outputs": [],
   "source": [
    "# Extract the cities' coordinates and names \n",
    "with open('br.json', encoding = 'utf-8') as file:\n",
    "    city_data = json.load(file)\n",
    "\n",
    "city_df = pd.DataFrame(city_data)\n",
    "\n",
    "# Remove special characters from the names\n",
    "city_df['city'] = city_df['city'].apply(lambda x: unidecode(x))\n",
    "\n",
    "#display(city_df)"
   ]
  },
  {
   "cell_type": "code",
   "execution_count": 4,
   "id": "a50c73a6",
   "metadata": {},
   "outputs": [],
   "source": [
    "# Connect the map points using the cities' coordinates\n",
    "for i in range(len(city_df)):\n",
    "    city_A = city_df.loc[i, 'city']\n",
    "    city_B = city_df.loc[(i + 1) % len(city_df), 'city']\n",
    "    #print(city_B)\n",
    "    coor_A = (float(city_df.loc[i, 'lat']), float(city_df.loc[i, 'lng']))\n",
    "    coor_B = (float(city_df.loc[(i + 1) % len(city_df), 'lat']), float(city_df.loc[(i + 1) % len(city_df), 'lng']))\n",
    "    #print(coor_A)\n",
    "    line = folium.PolyLine([coor_A, coor_B], color='blue')\n",
    "    line.add_to(mp)"
   ]
  },
  {
   "cell_type": "code",
   "execution_count": 5,
   "id": "da39e26f",
   "metadata": {},
   "outputs": [],
   "source": [
    "# Save the map\n",
    "mp.save('brazil_lines.html')"
   ]
  },
  {
   "cell_type": "code",
   "execution_count": null,
   "id": "a668d85d",
   "metadata": {},
   "outputs": [],
   "source": []
  }
 ],
 "metadata": {
  "kernelspec": {
   "display_name": "Python 3 (ipykernel)",
   "language": "python",
   "name": "python3"
  },
  "language_info": {
   "codemirror_mode": {
    "name": "ipython",
    "version": 3
   },
   "file_extension": ".py",
   "mimetype": "text/x-python",
   "name": "python",
   "nbconvert_exporter": "python",
   "pygments_lexer": "ipython3",
   "version": "3.11.3"
  }
 },
 "nbformat": 4,
 "nbformat_minor": 5
}
