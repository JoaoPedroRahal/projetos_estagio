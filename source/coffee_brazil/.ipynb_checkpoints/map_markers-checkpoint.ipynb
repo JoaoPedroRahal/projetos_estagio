{
 "cells": [
  {
   "cell_type": "code",
   "execution_count": 1,
   "id": "647f36cf",
   "metadata": {},
   "outputs": [],
   "source": [
    "import folium\n",
    "import json"
   ]
  },
  {
   "cell_type": "code",
   "execution_count": 2,
   "id": "a4250261",
   "metadata": {},
   "outputs": [],
   "source": [
    "# Create the world map\n",
    "mp = folium.Map(location=[-15, -50], zoom_start=3.5 )"
   ]
  },
  {
   "cell_type": "code",
   "execution_count": 3,
   "id": "d7132673",
   "metadata": {},
   "outputs": [],
   "source": [
    "# Extract the cities' coordinates from the json database\n",
    "with open('br.json', encoding='utf-8') as file:\n",
    "    city_data = json.load(file)\n",
    "\n",
    "# Create the markers\n",
    "for city_info in city_data:\n",
    "    city = city_info['city']\n",
    "    lat = float(city_info['lat'])\n",
    "    lon = float(city_info['lng'])\n",
    "    \n",
    "    marker = folium.Marker(location=[lat, lon], popup=city)\n",
    "    marker.add_to(mp)"
   ]
  },
  {
   "cell_type": "code",
   "execution_count": 4,
   "id": "4d25fb3b",
   "metadata": {},
   "outputs": [],
   "source": [
    "# Save the map\n",
    "mp.save('brazil_cities.html')"
   ]
  },
  {
   "cell_type": "code",
   "execution_count": null,
   "id": "36044b58",
   "metadata": {},
   "outputs": [],
   "source": []
  }
 ],
 "metadata": {
  "kernelspec": {
   "display_name": "Python 3 (ipykernel)",
   "language": "python",
   "name": "python3"
  },
  "language_info": {
   "codemirror_mode": {
    "name": "ipython",
    "version": 3
   },
   "file_extension": ".py",
   "mimetype": "text/x-python",
   "name": "python",
   "nbconvert_exporter": "python",
   "pygments_lexer": "ipython3",
   "version": "3.11.3"
  }
 },
 "nbformat": 4,
 "nbformat_minor": 5
}
