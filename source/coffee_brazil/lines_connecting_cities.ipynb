{
 "cells": [
  {
   "cell_type": "code",
   "execution_count": 8,
   "id": "d8b4777e",
   "metadata": {},
   "outputs": [
    {
     "ename": "SyntaxError",
     "evalue": "invalid syntax. Maybe you meant '==' or ':=' instead of '='? (2366151999.py, line 19)",
     "output_type": "error",
     "traceback": [
      "\u001b[1;36m  Cell \u001b[1;32mIn[8], line 19\u001b[1;36m\u001b[0m\n\u001b[1;33m    coor_A = (coords_A = city_df.loc[i, 'Latitude'], cities.loc[i, 'Longitude'])\u001b[0m\n\u001b[1;37m              ^\u001b[0m\n\u001b[1;31mSyntaxError\u001b[0m\u001b[1;31m:\u001b[0m invalid syntax. Maybe you meant '==' or ':=' instead of '='?\n"
     ]
    }
   ],
   "source": [
    "import folium\n",
    "import pandas as pd\n",
    "import geopandas as gpd\n",
    "import json\n",
    "from unidecode import unidecode\n",
    "\n",
    "with open('br.json', encoding = 'utf-8') as file:\n",
    "    city_data = json.load(file)\n",
    "\n",
    "city_df = pd.DataFrame(city_data)\n",
    "city_df['city'] = city_df['city'].apply(lambda x: unidecode(x))\n",
    "\n",
    "#display(city_df)\n",
    "\n",
    "for i in range(len(city_df)):\n",
    "    city_A = city_df.loc[i, 'city']\n",
    "    city_B = city_df.loc[(i+1), 'city']\n",
    "    \n",
    "    coor_A = (city_df.loc[i, 'lat'], city_df.loc[i, 'lng'])\n",
    "    coor_B = (city_df.loc[(i + 1), 'lat'], city_df.loc[(i + 1), 'lng'])\n",
    "    folium.Line([coor_A, coor_B], color='black'.add_to(map))"
   ]
  },
  {
   "cell_type": "code",
   "execution_count": null,
   "id": "1951c3ed",
   "metadata": {},
   "outputs": [],
   "source": []
  }
 ],
 "metadata": {
  "kernelspec": {
   "display_name": "Python 3 (ipykernel)",
   "language": "python",
   "name": "python3"
  },
  "language_info": {
   "codemirror_mode": {
    "name": "ipython",
    "version": 3
   },
   "file_extension": ".py",
   "mimetype": "text/x-python",
   "name": "python",
   "nbconvert_exporter": "python",
   "pygments_lexer": "ipython3",
   "version": "3.11.3"
  }
 },
 "nbformat": 4,
 "nbformat_minor": 5
}
