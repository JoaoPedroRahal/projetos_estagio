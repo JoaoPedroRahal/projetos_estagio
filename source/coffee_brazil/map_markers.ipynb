{
 "cells": [
  {
   "cell_type": "code",
   "execution_count": 2,
   "id": "647f36cf",
   "metadata": {},
   "outputs": [],
   "source": [
    "import folium\n",
    "import json"
   ]
  },
  {
   "cell_type": "code",
   "execution_count": 3,
   "id": "a4250261",
   "metadata": {},
   "outputs": [],
   "source": [
    "# Create the world map\n",
    "mp = folium.Map(location=[-15, -50], zoom_start=3.5 )"
   ]
  },
  {
   "cell_type": "code",
   "execution_count": 1,
   "id": "d7132673",
   "metadata": {},
   "outputs": [
    {
     "ename": "NameError",
     "evalue": "name 'json' is not defined",
     "output_type": "error",
     "traceback": [
      "\u001b[1;31m---------------------------------------------------------------------------\u001b[0m",
      "\u001b[1;31mNameError\u001b[0m                                 Traceback (most recent call last)",
      "Cell \u001b[1;32mIn[1], line 3\u001b[0m\n\u001b[0;32m      1\u001b[0m \u001b[38;5;66;03m# Extract the cities' coordinates from the json database\u001b[39;00m\n\u001b[0;32m      2\u001b[0m \u001b[38;5;28;01mwith\u001b[39;00m \u001b[38;5;28mopen\u001b[39m(\u001b[38;5;124m'\u001b[39m\u001b[38;5;124mbr.json\u001b[39m\u001b[38;5;124m'\u001b[39m, encoding\u001b[38;5;241m=\u001b[39m\u001b[38;5;124m'\u001b[39m\u001b[38;5;124mutf-8\u001b[39m\u001b[38;5;124m'\u001b[39m) \u001b[38;5;28;01mas\u001b[39;00m file:\n\u001b[1;32m----> 3\u001b[0m     city_data \u001b[38;5;241m=\u001b[39m json\u001b[38;5;241m.\u001b[39mload(file)\n\u001b[0;32m      5\u001b[0m \u001b[38;5;66;03m# Create the markers\u001b[39;00m\n\u001b[0;32m      6\u001b[0m \u001b[38;5;28;01mfor\u001b[39;00m city_info \u001b[38;5;129;01min\u001b[39;00m city_data:\n",
      "\u001b[1;31mNameError\u001b[0m: name 'json' is not defined"
     ]
    }
   ],
   "source": [
    "# Extract the cities' coordinates from the json database\n",
    "with open('br.json', encoding='utf-8') as file:\n",
    "    city_data = json.load(file)\n",
    "\n",
    "# Create the markers\n",
    "for city_info in city_data:\n",
    "    city = city_info['city']\n",
    "    lat = float(city_info['lat'])\n",
    "    lon = float(city_info['lng'])\n",
    "    \n",
    "    marker = folium.Marker(location=[lat, lon], popup=city)\n",
    "    marker.add_to(mp)"
   ]
  },
  {
   "cell_type": "code",
   "execution_count": 4,
   "id": "4d25fb3b",
   "metadata": {},
   "outputs": [],
   "source": [
    "# Save the map\n",
    "mp.save('brazil_cities.html')"
   ]
  },
  {
   "cell_type": "code",
   "execution_count": null,
   "id": "36044b58",
   "metadata": {},
   "outputs": [],
   "source": []
  }
 ],
 "metadata": {
  "kernelspec": {
   "display_name": "Python 3 (ipykernel)",
   "language": "python",
   "name": "python3"
  },
  "language_info": {
   "codemirror_mode": {
    "name": "ipython",
    "version": 3
   },
   "file_extension": ".py",
   "mimetype": "text/x-python",
   "name": "python",
   "nbconvert_exporter": "python",
   "pygments_lexer": "ipython3",
   "version": "3.11.3"
  }
 },
 "nbformat": 4,
 "nbformat_minor": 5
}
