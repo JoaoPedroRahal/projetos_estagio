{
 "cells": [
  {
   "cell_type": "markdown",
   "id": "a152d429",
   "metadata": {},
   "source": [
    "Por enquanto esse notebook é um trabalho incompleto. Quis fazer um mapa conectando todos os castelos da Alemanha (são muitos), e para isso precisaria criar um script que rodasse diversas páginas da wikipedia pegando coordenada por coordenada e só então teria os dados para criar o mapa. Apanhei uma tarde inteira para tentar automatizar esse processo e ainda não consegui o terminar. Quem sabe no futuro eu retomo."
   ]
  },
  {
   "cell_type": "code",
   "execution_count": 2,
   "id": "14bdd022",
   "metadata": {},
   "outputs": [],
   "source": [
    "import pandas as pd\n",
    "import requests\n",
    "from bs4 import BeautifulSoup"
   ]
  },
  {
   "cell_type": "code",
   "execution_count": 14,
   "id": "215b4093",
   "metadata": {
    "scrolled": true
   },
   "outputs": [
    {
     "name": "stdout",
     "output_type": "stream",
     "text": [
      "Empty DataFrame\n",
      "Columns: [URL]\n",
      "Index: []\n"
     ]
    }
   ],
   "source": [
    "\n",
    "def buscar_urls_da_pagina(url, id_div):\n",
    "    resposta = requests.get(url)\n",
    "    sopa = BeautifulSoup(resposta.content, 'html.parser')\n",
    "    lista_de_urls = []\n",
    "    \n",
    "    div = sopa.find('div', {'id': id_div})\n",
    "    if div:\n",
    "        tags_ancora = sopa.find_all('a')\n",
    "        for tag in tags_ancora:\n",
    "            href = tag.get('href')\n",
    "            if href.startswith('http'):\n",
    "                lista_de_urls.append(href)\n",
    "    return lista_de_urls\n",
    "\n",
    "def urls_dataframe(url, id_div):\n",
    "    lista_de_urls = buscar_urls_da_pagina(url, id_div)\n",
    "    dataFrame = pd.DataFrame({'URL': lista_de_urls})\n",
    "    return dataFrame\n",
    "\n",
    "pagina = 'https://en.wikipedia.org/wiki/Category:Castles_in_the_Harz'\n",
    "id_div_urls = 'mw-category mw-category-columns'\n",
    "dataFrame_castelos = urls_dataframe(pagina, id_div_urls)\n",
    "\n",
    "print(dataFrame_castelos)"
   ]
  },
  {
   "cell_type": "code",
   "execution_count": null,
   "id": "002f81dc",
   "metadata": {},
   "outputs": [],
   "source": []
  }
 ],
 "metadata": {
  "kernelspec": {
   "display_name": "Python 3 (ipykernel)",
   "language": "python",
   "name": "python3"
  },
  "language_info": {
   "codemirror_mode": {
    "name": "ipython",
    "version": 3
   },
   "file_extension": ".py",
   "mimetype": "text/x-python",
   "name": "python",
   "nbconvert_exporter": "python",
   "pygments_lexer": "ipython3",
   "version": "3.11.3"
  }
 },
 "nbformat": 4,
 "nbformat_minor": 5
}
