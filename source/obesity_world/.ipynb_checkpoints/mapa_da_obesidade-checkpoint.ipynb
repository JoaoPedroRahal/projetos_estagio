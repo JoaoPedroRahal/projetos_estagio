{
 "cells": [
  {
   "cell_type": "markdown",
   "id": "6745a780",
   "metadata": {},
   "source": [
    "A biblioteca pandas fornece maneiras de se ler dados genéricos em tabelas de diversas origens, neste caso, importamos uma tabela de uma página web através da função pd.read_html(url). O resultado da leitura é um vetor que possui todas as tabelas da página, de onde vamos separar a tabela específica que queremos em um dataFrame.\n",
    "\n",
    "O geopandas se trata de uma extensão do pandas, de modo que seus métodos são similares. O método gpd.read_file(file) busca nos arquivos da biblioteca um mapa especificado, nesse caso, um mapa mundi na projeção de Mercator."
   ]
  },
  {
   "cell_type": "code",
   "execution_count": 1,
   "id": "cb38f758",
   "metadata": {
    "scrolled": true
   },
   "outputs": [
    {
     "name": "stderr",
     "output_type": "stream",
     "text": [
      "C:\\Users\\jojos\\AppData\\Local\\Temp\\ipykernel_14720\\3363646191.py:8: FutureWarning: The geopandas.dataset module is deprecated and will be removed in GeoPandas 1.0. You can get the original 'naturalearth_lowres' data from https://www.naturalearthdata.com/downloads/110m-cultural-vectors/.\n",
      "  world = gpd.read_file(gpd.datasets.get_path('naturalearth_lowres'))\n"
     ]
    },
    {
     "ename": "KeyboardInterrupt",
     "evalue": "",
     "output_type": "error",
     "traceback": [
      "\u001b[1;31m---------------------------------------------------------------------------\u001b[0m",
      "\u001b[1;31mKeyboardInterrupt\u001b[0m                         Traceback (most recent call last)",
      "Cell \u001b[1;32mIn[1], line 8\u001b[0m\n\u001b[0;32m      5\u001b[0m tabelas \u001b[38;5;241m=\u001b[39m pd\u001b[38;5;241m.\u001b[39mread_html(url)\n\u001b[0;32m      6\u001b[0m dados \u001b[38;5;241m=\u001b[39m tabelas[\u001b[38;5;241m0\u001b[39m]\n\u001b[1;32m----> 8\u001b[0m world \u001b[38;5;241m=\u001b[39m gpd\u001b[38;5;241m.\u001b[39mread_file(gpd\u001b[38;5;241m.\u001b[39mdatasets\u001b[38;5;241m.\u001b[39mget_path(\u001b[38;5;124m'\u001b[39m\u001b[38;5;124mnaturalearth_lowres\u001b[39m\u001b[38;5;124m'\u001b[39m))\n",
      "File \u001b[1;32m~\\.conda\\envs\\geo_env\\Lib\\site-packages\\geopandas\\io\\file.py:255\u001b[0m, in \u001b[0;36m_read_file\u001b[1;34m(filename, bbox, mask, rows, engine, **kwargs)\u001b[0m\n\u001b[0;32m    174\u001b[0m \u001b[38;5;28;01mdef\u001b[39;00m \u001b[38;5;21m_read_file\u001b[39m(filename, bbox\u001b[38;5;241m=\u001b[39m\u001b[38;5;28;01mNone\u001b[39;00m, mask\u001b[38;5;241m=\u001b[39m\u001b[38;5;28;01mNone\u001b[39;00m, rows\u001b[38;5;241m=\u001b[39m\u001b[38;5;28;01mNone\u001b[39;00m, engine\u001b[38;5;241m=\u001b[39m\u001b[38;5;28;01mNone\u001b[39;00m, \u001b[38;5;241m*\u001b[39m\u001b[38;5;241m*\u001b[39mkwargs):\n\u001b[0;32m    175\u001b[0m \u001b[38;5;250m    \u001b[39m\u001b[38;5;124;03m\"\"\"\u001b[39;00m\n\u001b[0;32m    176\u001b[0m \u001b[38;5;124;03m    Returns a GeoDataFrame from a file or URL.\u001b[39;00m\n\u001b[0;32m    177\u001b[0m \n\u001b[1;32m   (...)\u001b[0m\n\u001b[0;32m    253\u001b[0m \n\u001b[0;32m    254\u001b[0m \u001b[38;5;124;03m    \"\"\"\u001b[39;00m\n\u001b[1;32m--> 255\u001b[0m     engine \u001b[38;5;241m=\u001b[39m _check_engine(engine, \u001b[38;5;124m\"\u001b[39m\u001b[38;5;124m'\u001b[39m\u001b[38;5;124mread_file\u001b[39m\u001b[38;5;124m'\u001b[39m\u001b[38;5;124m function\u001b[39m\u001b[38;5;124m\"\u001b[39m)\n\u001b[0;32m    257\u001b[0m     filename \u001b[38;5;241m=\u001b[39m _expand_user(filename)\n\u001b[0;32m    259\u001b[0m     from_bytes \u001b[38;5;241m=\u001b[39m \u001b[38;5;28;01mFalse\u001b[39;00m\n",
      "File \u001b[1;32m~\\.conda\\envs\\geo_env\\Lib\\site-packages\\geopandas\\io\\file.py:99\u001b[0m, in \u001b[0;36m_check_engine\u001b[1;34m(engine, func)\u001b[0m\n\u001b[0;32m     96\u001b[0m \u001b[38;5;28;01mdef\u001b[39;00m \u001b[38;5;21m_check_engine\u001b[39m(engine, func):\n\u001b[0;32m     97\u001b[0m     \u001b[38;5;66;03m# default to \"fiona\" if installed, otherwise try pyogrio\u001b[39;00m\n\u001b[0;32m     98\u001b[0m     \u001b[38;5;28;01mif\u001b[39;00m engine \u001b[38;5;129;01mis\u001b[39;00m \u001b[38;5;28;01mNone\u001b[39;00m:\n\u001b[1;32m---> 99\u001b[0m         _import_fiona()\n\u001b[0;32m    100\u001b[0m         \u001b[38;5;28;01mif\u001b[39;00m fiona:\n\u001b[0;32m    101\u001b[0m             engine \u001b[38;5;241m=\u001b[39m \u001b[38;5;124m\"\u001b[39m\u001b[38;5;124mfiona\u001b[39m\u001b[38;5;124m\"\u001b[39m\n",
      "File \u001b[1;32m~\\.conda\\envs\\geo_env\\Lib\\site-packages\\geopandas\\io\\file.py:42\u001b[0m, in \u001b[0;36m_import_fiona\u001b[1;34m()\u001b[0m\n\u001b[0;32m     40\u001b[0m \u001b[38;5;28;01mif\u001b[39;00m fiona \u001b[38;5;129;01mis\u001b[39;00m \u001b[38;5;28;01mNone\u001b[39;00m:\n\u001b[0;32m     41\u001b[0m     \u001b[38;5;28;01mtry\u001b[39;00m:\n\u001b[1;32m---> 42\u001b[0m         \u001b[38;5;28;01mimport\u001b[39;00m \u001b[38;5;21;01mfiona\u001b[39;00m\n\u001b[0;32m     44\u001b[0m         \u001b[38;5;66;03m# only try to import fiona.Env if the main fiona import succeeded\u001b[39;00m\n\u001b[0;32m     45\u001b[0m         \u001b[38;5;66;03m# (otherwise you can get confusing \"AttributeError: module 'fiona'\u001b[39;00m\n\u001b[0;32m     46\u001b[0m         \u001b[38;5;66;03m# has no attribute '_loading'\" / partially initialized module errors)\u001b[39;00m\n\u001b[0;32m     47\u001b[0m         \u001b[38;5;28;01mtry\u001b[39;00m:\n",
      "File \u001b[1;32m~\\.conda\\envs\\geo_env\\Lib\\site-packages\\fiona\\__init__.py:86\u001b[0m\n\u001b[0;32m     82\u001b[0m                 \u001b[38;5;28;01mif\u001b[39;00m glob\u001b[38;5;241m.\u001b[39mglob(os\u001b[38;5;241m.\u001b[39mpath\u001b[38;5;241m.\u001b[39mjoin(p, \u001b[38;5;124m\"\u001b[39m\u001b[38;5;124mgdal*.dll\u001b[39m\u001b[38;5;124m\"\u001b[39m)):\n\u001b[0;32m     83\u001b[0m                     os\u001b[38;5;241m.\u001b[39madd_dll_directory(p)\n\u001b[1;32m---> 86\u001b[0m \u001b[38;5;28;01mfrom\u001b[39;00m \u001b[38;5;21;01mfiona\u001b[39;00m\u001b[38;5;21;01m.\u001b[39;00m\u001b[38;5;21;01m_env\u001b[39;00m \u001b[38;5;28;01mimport\u001b[39;00m (\n\u001b[0;32m     87\u001b[0m     calc_gdal_version_num,\n\u001b[0;32m     88\u001b[0m     get_gdal_release_name,\n\u001b[0;32m     89\u001b[0m     get_gdal_version_num,\n\u001b[0;32m     90\u001b[0m     get_gdal_version_tuple,\n\u001b[0;32m     91\u001b[0m )\n\u001b[0;32m     92\u001b[0m \u001b[38;5;28;01mfrom\u001b[39;00m \u001b[38;5;21;01mfiona\u001b[39;00m\u001b[38;5;21;01m.\u001b[39;00m\u001b[38;5;21;01m_env\u001b[39;00m \u001b[38;5;28;01mimport\u001b[39;00m driver_count\n\u001b[0;32m     93\u001b[0m \u001b[38;5;28;01mfrom\u001b[39;00m \u001b[38;5;21;01mfiona\u001b[39;00m\u001b[38;5;21;01m.\u001b[39;00m\u001b[38;5;21;01m_show_versions\u001b[39;00m \u001b[38;5;28;01mimport\u001b[39;00m show_versions\n",
      "File \u001b[1;32m<frozen importlib._bootstrap>:405\u001b[0m, in \u001b[0;36mparent\u001b[1;34m(self)\u001b[0m\n",
      "\u001b[1;31mKeyboardInterrupt\u001b[0m: "
     ]
    }
   ],
   "source": [
    "import pandas as pd\n",
    "import geopandas as gpd\n",
    "\n",
    "url = 'https://en.wikipedia.org/wiki/List_of_countries_by_obesity_rate'\n",
    "tabelas = pd.read_html(url)\n",
    "dados = tabelas[0]\n",
    "\n",
    "world = gpd.read_file(gpd.datasets.get_path('naturalearth_lowres'))"
   ]
  },
  {
   "cell_type": "markdown",
   "id": "dbcfbfe6",
   "metadata": {},
   "source": [
    "pd.set_option('display.max_rows', None)     # Mostrar todas as linhas\n",
    "pd.set_option('display.max_columns', None)  # Mostrar todas as colunas\n",
    "pd.set_option('display.width', None)        # Mostrar tudo alinhado \n",
    "pd.reset_option('display.max_rows')       #{\n",
    "pd.reset_option('display.max_columns')    #{ Resetar as configurações\n",
    "pd.reset_option('display.width')          #{"
   ]
  },
  {
   "cell_type": "markdown",
   "id": "9b203c98",
   "metadata": {},
   "source": [
    "A biblioteca \"fuzzywuzzy\" fornece opções de comparação e manipulação de dados, permitindo que as linhas de diferentes colunas sejam comparadas, de modo que é possível gerar uma tabela que demonstra os nomes mais parecidos. Nesse caso, pequenas mudanças nos nomes de países podem ser encontradas (por exemplo os Estados Unidos, que podem constar como United States ou United States of America e a Costa do Marfim, que pode ser chamada de Ivory Coast ou Côte d'Ivorie)."
   ]
  },
  {
   "cell_type": "code",
   "execution_count": 6,
   "id": "ffc37a98",
   "metadata": {},
   "outputs": [
    {
     "name": "stdout",
     "output_type": "stream",
     "text": [
      "                               Nome1                     Nome2\n",
      "0                              Nauru                 N. Cyprus\n",
      "1                       Cook Islands              Falkland Is.\n",
      "2                              Palau                 Palestine\n",
      "3                   Marshall Islands              Falkland Is.\n",
      "4                             Tuvalu                    Taiwan\n",
      "5                               Niue                 Palestine\n",
      "6                              Tonga                     Congo\n",
      "7                              Samoa                   Myanmar\n",
      "8                           Kiribati                  eSwatini\n",
      "9     Federated States of Micronesia  United States of America\n",
      "10                     United States  United States of America\n",
      "11                           Bahrain                 W. Sahara\n",
      "12                             Malta                   Myanmar\n",
      "13                          Dominica            Dominican Rep.\n",
      "14                Dominican Republic            Dominican Rep.\n",
      "15                    Czech Republic                   Czechia\n",
      "16                           Andorra                Antarctica\n",
      "17  Saint Vincent and the Grenadines          Bosnia and Herz.\n",
      "18                          Barbados              Falkland Is.\n",
      "19             Saint Kitts and Nevis  United States of America\n",
      "20                   Solomon Islands               Solomon Is.\n",
      "21                   North Macedonia                 Macedonia\n",
      "22                           Grenada                 Greenland\n",
      "23                       Saint Lucia                  eSwatini\n",
      "24               Antigua and Barbuda          Bosnia and Herz.\n",
      "25            Bosnia and Herzegovina          Bosnia and Herz.\n",
      "26                          Eswatini                  eSwatini\n",
      "27                        Seychelles                   Czechia\n",
      "28             São Tomé and Príncipe                Somaliland\n",
      "29                        Cape Verde             Côte d'Ivoire\n",
      "30                         Mauritius                Antarctica\n",
      "31                       Ivory Coast             Côte d'Ivoire\n",
      "32             Republic of the Congo           Dem. Rep. Congo\n",
      "33                          Maldives                 Palestine\n",
      "34                 Equatorial Guinea                Eq. Guinea\n",
      "35                           Comoros                     Congo\n",
      "36          Central African Republic      Central African Rep.\n",
      "37  Democratic Republic of the Congo           Dem. Rep. Congo\n",
      "38                       South Sudan                  S. Sudan\n",
      "39                         Singapore                     Congo\n"
     ]
    }
   ],
   "source": [
    "from fuzzywuzzy import fuzz\n",
    "\n",
    "pd.set_option('display.max_rows', None)  # Mostrar todas as linhas\n",
    "\n",
    "dados_teste = dados.copy()\n",
    "world_teste = world.copy()\n",
    "\n",
    "dados_teste['Country'] = dados_teste['Country'].reset_index(drop=True)\n",
    "world_teste['name'] = world_teste['name'].reset_index(drop=True)\n",
    "\n",
    "linhas_extras_dados = dados_teste['Country'][~dados_teste['Country'].isin(world_teste['name'])]\n",
    "linhas_extras_world = world_teste['name'][~world_teste['name'].isin(dados_teste['Country'])]\n",
    "\n",
    "# Listas para armazenar os pares de correspondência\n",
    "correspondencias = []\n",
    "\n",
    "# Iterar pelos nomes dos países em uma das tabelas\n",
    "for nome1 in linhas_extras_dados:\n",
    "    melhor_correspondencia = None\n",
    "    melhor_pontuacao = 0\n",
    "\n",
    "    # Comparar com os nomes dos países na outra tabela\n",
    "    for nome2 in linhas_extras_world:\n",
    "        pontuacao = fuzz.ratio(nome1, nome2)\n",
    "\n",
    "        # Atualizar a melhor correspondência se a pontuação for maior\n",
    "        if pontuacao > melhor_pontuacao:\n",
    "            melhor_pontuacao = pontuacao\n",
    "            melhor_correspondencia = nome2\n",
    "\n",
    "    # Adicionar a correspondência à lista de pares\n",
    "    correspondencias.append((nome1, melhor_correspondencia))\n",
    "\n",
    "# Criar um DataFrame com as correspondências\n",
    "tabela_correspondencias = pd.DataFrame(correspondencias, columns=['Nome1', 'Nome2'])\n",
    "\n",
    "# Imprimir a tabela de correspondências\n",
    "print(tabela_correspondencias)"
   ]
  },
  {
   "cell_type": "markdown",
   "id": "48f860b7",
   "metadata": {},
   "source": [
    "Continuando o trabalho da célula anterior, podemos substituir os nomes diferentes criando correspondências e utilizando .replace[]. Apesar de conveniente, ainda não é um método perfeito. Muitas nações pequenas ficam de fora, e certas áreas do mapa como \"W. Sahara\", precisam ser adicionadas à países. Temos também o problema de juntas nações que não se consideram a mesma, por exemplo Sérvia e Kosovo ou Israel e Palestina, porém muitas dessas disputas não interferem em processos de coleta de dados (como o censo nacional), de maneira que é possível juntar essas áreas por conveniência. Por fim, territórios não conectados como a Groenlândia e a Guiana Francesa, que possuem uma dinâmica populacional bem diferente, ainda ficam com os mesmos dados das nações principais. "
   ]
  },
  {
   "cell_type": "code",
   "execution_count": 2,
   "id": "0d4de95a",
   "metadata": {},
   "outputs": [
    {
     "ename": "KeyError",
     "evalue": "'Country'",
     "output_type": "error",
     "traceback": [
      "\u001b[1;31m---------------------------------------------------------------------------\u001b[0m",
      "\u001b[1;31mKeyError\u001b[0m                                  Traceback (most recent call last)",
      "File \u001b[1;32m~\\.conda\\envs\\geo_env\\Lib\\site-packages\\pandas\\core\\indexes\\base.py:3802\u001b[0m, in \u001b[0;36mIndex.get_loc\u001b[1;34m(self, key, method, tolerance)\u001b[0m\n\u001b[0;32m   3801\u001b[0m \u001b[38;5;28;01mtry\u001b[39;00m:\n\u001b[1;32m-> 3802\u001b[0m     \u001b[38;5;28;01mreturn\u001b[39;00m \u001b[38;5;28mself\u001b[39m\u001b[38;5;241m.\u001b[39m_engine\u001b[38;5;241m.\u001b[39mget_loc(casted_key)\n\u001b[0;32m   3803\u001b[0m \u001b[38;5;28;01mexcept\u001b[39;00m \u001b[38;5;167;01mKeyError\u001b[39;00m \u001b[38;5;28;01mas\u001b[39;00m err:\n",
      "File \u001b[1;32m~\\.conda\\envs\\geo_env\\Lib\\site-packages\\pandas\\_libs\\index.pyx:138\u001b[0m, in \u001b[0;36mpandas._libs.index.IndexEngine.get_loc\u001b[1;34m()\u001b[0m\n",
      "File \u001b[1;32m~\\.conda\\envs\\geo_env\\Lib\\site-packages\\pandas\\_libs\\index.pyx:146\u001b[0m, in \u001b[0;36mpandas._libs.index.IndexEngine.get_loc\u001b[1;34m()\u001b[0m\n",
      "File \u001b[1;32mpandas\\_libs\\index_class_helper.pxi:49\u001b[0m, in \u001b[0;36mpandas._libs.index.Int64Engine._check_type\u001b[1;34m()\u001b[0m\n",
      "\u001b[1;31mKeyError\u001b[0m: 'Country'",
      "\nThe above exception was the direct cause of the following exception:\n",
      "\u001b[1;31mKeyError\u001b[0m                                  Traceback (most recent call last)",
      "Cell \u001b[1;32mIn[2], line 17\u001b[0m\n\u001b[0;32m      1\u001b[0m correspondencia \u001b[38;5;241m=\u001b[39m {\n\u001b[0;32m      2\u001b[0m     \u001b[38;5;124m\"\u001b[39m\u001b[38;5;124mUnited States\u001b[39m\u001b[38;5;124m\"\u001b[39m:\u001b[38;5;124m\"\u001b[39m\u001b[38;5;124mUnited States of America\u001b[39m\u001b[38;5;124m\"\u001b[39m,\n\u001b[0;32m      3\u001b[0m     \u001b[38;5;124m\"\u001b[39m\u001b[38;5;124mIsrael\u001b[39m\u001b[38;5;124m\"\u001b[39m:\u001b[38;5;124m\"\u001b[39m\u001b[38;5;124mPalestine\u001b[39m\u001b[38;5;124m\"\u001b[39m,\n\u001b[1;32m   (...)\u001b[0m\n\u001b[0;32m     14\u001b[0m     \u001b[38;5;124m\"\u001b[39m\u001b[38;5;124mServia\u001b[39m\u001b[38;5;124m\"\u001b[39m:\u001b[38;5;124m\"\u001b[39m\u001b[38;5;124mKosovo\u001b[39m\u001b[38;5;124m\"\u001b[39m\n\u001b[0;32m     15\u001b[0m }\n\u001b[1;32m---> 17\u001b[0m dados[\u001b[38;5;124m'\u001b[39m\u001b[38;5;124mCountry\u001b[39m\u001b[38;5;124m'\u001b[39m] \u001b[38;5;241m=\u001b[39m dados[\u001b[38;5;124m'\u001b[39m\u001b[38;5;124mCountry\u001b[39m\u001b[38;5;124m'\u001b[39m]\u001b[38;5;241m.\u001b[39mreplace(correspondencia)\n\u001b[0;32m     18\u001b[0m world[\u001b[38;5;124m'\u001b[39m\u001b[38;5;124mname\u001b[39m\u001b[38;5;124m'\u001b[39m] \u001b[38;5;241m=\u001b[39m world[\u001b[38;5;124m'\u001b[39m\u001b[38;5;124mname\u001b[39m\u001b[38;5;124m'\u001b[39m]\u001b[38;5;241m.\u001b[39mreplace(correspondencia)\n",
      "File \u001b[1;32m~\\.conda\\envs\\geo_env\\Lib\\site-packages\\pandas\\core\\frame.py:3807\u001b[0m, in \u001b[0;36mDataFrame.__getitem__\u001b[1;34m(self, key)\u001b[0m\n\u001b[0;32m   3805\u001b[0m \u001b[38;5;28;01mif\u001b[39;00m \u001b[38;5;28mself\u001b[39m\u001b[38;5;241m.\u001b[39mcolumns\u001b[38;5;241m.\u001b[39mnlevels \u001b[38;5;241m>\u001b[39m \u001b[38;5;241m1\u001b[39m:\n\u001b[0;32m   3806\u001b[0m     \u001b[38;5;28;01mreturn\u001b[39;00m \u001b[38;5;28mself\u001b[39m\u001b[38;5;241m.\u001b[39m_getitem_multilevel(key)\n\u001b[1;32m-> 3807\u001b[0m indexer \u001b[38;5;241m=\u001b[39m \u001b[38;5;28mself\u001b[39m\u001b[38;5;241m.\u001b[39mcolumns\u001b[38;5;241m.\u001b[39mget_loc(key)\n\u001b[0;32m   3808\u001b[0m \u001b[38;5;28;01mif\u001b[39;00m is_integer(indexer):\n\u001b[0;32m   3809\u001b[0m     indexer \u001b[38;5;241m=\u001b[39m [indexer]\n",
      "File \u001b[1;32m~\\.conda\\envs\\geo_env\\Lib\\site-packages\\pandas\\core\\indexes\\base.py:3804\u001b[0m, in \u001b[0;36mIndex.get_loc\u001b[1;34m(self, key, method, tolerance)\u001b[0m\n\u001b[0;32m   3802\u001b[0m     \u001b[38;5;28;01mreturn\u001b[39;00m \u001b[38;5;28mself\u001b[39m\u001b[38;5;241m.\u001b[39m_engine\u001b[38;5;241m.\u001b[39mget_loc(casted_key)\n\u001b[0;32m   3803\u001b[0m \u001b[38;5;28;01mexcept\u001b[39;00m \u001b[38;5;167;01mKeyError\u001b[39;00m \u001b[38;5;28;01mas\u001b[39;00m err:\n\u001b[1;32m-> 3804\u001b[0m     \u001b[38;5;28;01mraise\u001b[39;00m \u001b[38;5;167;01mKeyError\u001b[39;00m(key) \u001b[38;5;28;01mfrom\u001b[39;00m \u001b[38;5;21;01merr\u001b[39;00m\n\u001b[0;32m   3805\u001b[0m \u001b[38;5;28;01mexcept\u001b[39;00m \u001b[38;5;167;01mTypeError\u001b[39;00m:\n\u001b[0;32m   3806\u001b[0m     \u001b[38;5;66;03m# If we have a listlike key, _check_indexing_error will raise\u001b[39;00m\n\u001b[0;32m   3807\u001b[0m     \u001b[38;5;66;03m#  InvalidIndexError. Otherwise we fall through and re-raise\u001b[39;00m\n\u001b[0;32m   3808\u001b[0m     \u001b[38;5;66;03m#  the TypeError.\u001b[39;00m\n\u001b[0;32m   3809\u001b[0m     \u001b[38;5;28mself\u001b[39m\u001b[38;5;241m.\u001b[39m_check_indexing_error(key)\n",
      "\u001b[1;31mKeyError\u001b[0m: 'Country'"
     ]
    }
   ],
   "source": [
    "correspondencia = {\n",
    "    \"United States\":\"United States of America\",\n",
    "    \"Israel\":\"Palestine\",\n",
    "    \"Dominican Republic\":\"Dominican Rep.\",\n",
    "    \"Czech Republic\":\"Czechia\",\n",
    "    \"North Macedonia\":\"Macedonia\",\n",
    "    \"Greenland\":\"Denmark\",\n",
    "    \"Bosnia and Herzegovina\":\"Bosnia and Herz.\",\n",
    "    \"Ivory Coast\":\"Côte d'Ivoire\",\n",
    "    \"Equatorial Guinea\":\"Eq. Guinea\",\n",
    "    \"Central African Republic\":\"Central African Rep.\",\n",
    "    \"Democratic Republic of the Congo\":\"Dem. Rep. Congo\",\n",
    "    \"South Sudan\":\"S. Sudan\",\n",
    "    \"Servia\":\"Kosovo\"\n",
    "}\n",
    "\n",
    "dados['Country'] = dados['Country'].replace(correspondencia)\n",
    "world['name'] = world['name'].replace(correspondencia)"
   ]
  },
  {
   "cell_type": "code",
   "execution_count": 8,
   "id": "c55260db",
   "metadata": {},
   "outputs": [],
   "source": [
    "dados = world.merge(dados, how='left', left_on='name', right_on='Country')\n",
    "\n",
    "sem_uso_ou_repetidas = ['gdp_md_est', 'iso_a3', 'continent', 'pop_est']\n",
    "\n",
    "dados.drop(sem_uso_ou_repetidas, axis=1, inplace=True)\n",
    "\n",
    "dados.dropna(axis=0, inplace=True, subset='Obesity rate (%)')"
   ]
  },
  {
   "cell_type": "markdown",
   "id": "5381f869",
   "metadata": {},
   "source": [
    "Por fim, usamos o folium para gerar o mapa e cruzar os dados."
   ]
  },
  {
   "cell_type": "code",
   "execution_count": 10,
   "id": "d78586db",
   "metadata": {},
   "outputs": [],
   "source": [
    "import folium\n",
    "from folium.plugins import MarkerCluster\n",
    "\n",
    "mapa_obesidade = folium.Map()\n",
    "folium.Choropleth(\n",
    "    geo_data=dados,\n",
    "    name='choropleth',\n",
    "    data=dados,\n",
    "    columns=['name', 'Obesity rate (%)'],\n",
    "    key_on='feature.properties.name',\n",
    "    fill_color='OrRd',\n",
    "    fill_opacity=0.9,\n",
    "    line_opacity=0.1,\n",
    "    legend_name='Taxa de obesidade proporcional da população em %'\n",
    ").add_to(mapa_obesidade)\n",
    "mapa_obesidade.save('obes.html')"
   ]
  },
  {
   "cell_type": "code",
   "execution_count": null,
   "id": "6a5d97f2",
   "metadata": {},
   "outputs": [],
   "source": []
  }
 ],
 "metadata": {
  "kernelspec": {
   "display_name": "Python 3 (ipykernel)",
   "language": "python",
   "name": "python3"
  },
  "language_info": {
   "codemirror_mode": {
    "name": "ipython",
    "version": 3
   },
   "file_extension": ".py",
   "mimetype": "text/x-python",
   "name": "python",
   "nbconvert_exporter": "python",
   "pygments_lexer": "ipython3",
   "version": "3.11.3"
  }
 },
 "nbformat": 4,
 "nbformat_minor": 5
}
